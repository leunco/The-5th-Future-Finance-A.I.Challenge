{
 "cells": [
  {
   "cell_type": "code",
   "execution_count": 1,
   "metadata": {
    "colab": {
     "base_uri": "https://localhost:8080/"
    },
    "id": "Ga0xwqWSJAN0",
    "outputId": "05672734-f8fc-4e2e-972e-92d5a22aae6d"
   },
   "outputs": [
    {
     "name": "stdout",
     "output_type": "stream",
     "text": [
      "Requirement already satisfied: openai in c:\\users\\on056\\anaconda3\\lib\\site-packages (0.27.8)\n",
      "Requirement already satisfied: tqdm in c:\\users\\on056\\anaconda3\\lib\\site-packages (from openai) (4.64.1)\n",
      "Requirement already satisfied: requests>=2.20 in c:\\users\\on056\\anaconda3\\lib\\site-packages (from openai) (2.28.1)\n",
      "Requirement already satisfied: aiohttp in c:\\users\\on056\\anaconda3\\lib\\site-packages (from openai) (3.8.3)\n",
      "Requirement already satisfied: certifi>=2017.4.17 in c:\\users\\on056\\anaconda3\\lib\\site-packages (from requests>=2.20->openai) (2022.12.7)\n",
      "Requirement already satisfied: idna<4,>=2.5 in c:\\users\\on056\\anaconda3\\lib\\site-packages (from requests>=2.20->openai) (3.4)\n",
      "Requirement already satisfied: charset-normalizer<3,>=2 in c:\\users\\on056\\anaconda3\\lib\\site-packages (from requests>=2.20->openai) (2.0.4)\n",
      "Requirement already satisfied: urllib3<1.27,>=1.21.1 in c:\\users\\on056\\anaconda3\\lib\\site-packages (from requests>=2.20->openai) (1.26.14)\n",
      "Requirement already satisfied: aiosignal>=1.1.2 in c:\\users\\on056\\anaconda3\\lib\\site-packages (from aiohttp->openai) (1.3.1)\n",
      "Requirement already satisfied: async-timeout<5.0,>=4.0.0a3 in c:\\users\\on056\\anaconda3\\lib\\site-packages (from aiohttp->openai) (4.0.2)\n",
      "Requirement already satisfied: yarl<2.0,>=1.0 in c:\\users\\on056\\anaconda3\\lib\\site-packages (from aiohttp->openai) (1.8.2)\n",
      "Requirement already satisfied: frozenlist>=1.1.1 in c:\\users\\on056\\anaconda3\\lib\\site-packages (from aiohttp->openai) (1.3.3)\n",
      "Requirement already satisfied: multidict<7.0,>=4.5 in c:\\users\\on056\\anaconda3\\lib\\site-packages (from aiohttp->openai) (6.0.4)\n",
      "Requirement already satisfied: attrs>=17.3.0 in c:\\users\\on056\\anaconda3\\lib\\site-packages (from aiohttp->openai) (22.1.0)\n",
      "Requirement already satisfied: colorama in c:\\users\\on056\\anaconda3\\lib\\site-packages (from tqdm->openai) (0.4.6)\n"
     ]
    }
   ],
   "source": [
    "!pip install openai"
   ]
  },
  {
   "cell_type": "code",
   "execution_count": 2,
   "metadata": {},
   "outputs": [],
   "source": [
    "import pandas as pd"
   ]
  },
  {
   "cell_type": "code",
   "execution_count": 3,
   "metadata": {
    "id": "J2xW0OGeJj_C"
   },
   "outputs": [],
   "source": [
    "import openai\n",
    "\n",
    "# 발급받은 API 키 설정\n",
    "OPENAI_API_KEY = \"\"\n",
    "\n",
    "# openai API 키 인증\n",
    "openai.api_key = OPENAI_API_KEY"
   ]
  },
  {
   "cell_type": "code",
   "execution_count": 4,
   "metadata": {},
   "outputs": [
    {
     "data": {
      "text/html": [
       "<div>\n",
       "<style scoped>\n",
       "    .dataframe tbody tr th:only-of-type {\n",
       "        vertical-align: middle;\n",
       "    }\n",
       "\n",
       "    .dataframe tbody tr th {\n",
       "        vertical-align: top;\n",
       "    }\n",
       "\n",
       "    .dataframe thead th {\n",
       "        text-align: right;\n",
       "    }\n",
       "</style>\n",
       "<table border=\"1\" class=\"dataframe\">\n",
       "  <thead>\n",
       "    <tr style=\"text-align: right;\">\n",
       "      <th></th>\n",
       "      <th>txt</th>\n",
       "      <th>len</th>\n",
       "    </tr>\n",
       "  </thead>\n",
       "  <tbody>\n",
       "    <tr>\n",
       "      <th>0</th>\n",
       "      <td>‘비타민B7’ ‘비타민H’로도 불리는 비오틴은 모발과 피부, 손톱을 건강하게 유지하...</td>\n",
       "      <td>71</td>\n",
       "    </tr>\n",
       "    <tr>\n",
       "      <th>1</th>\n",
       "      <td>특히 머리카락을 구성하는 단백질인 케라틴 생성에 중요한 역할을 담당하고, 결핍 시 ...</td>\n",
       "      <td>84</td>\n",
       "    </tr>\n",
       "    <tr>\n",
       "      <th>2</th>\n",
       "      <td>탈모로 고민하는 사람들 사이에서 특히 이름난 영양소인 비오틴.</td>\n",
       "      <td>34</td>\n",
       "    </tr>\n",
       "    <tr>\n",
       "      <th>3</th>\n",
       "      <td>비오틴의 역할과 효과 보는 섭취 팁을 소개한다.</td>\n",
       "      <td>26</td>\n",
       "    </tr>\n",
       "    <tr>\n",
       "      <th>4</th>\n",
       "      <td>WHAT: 이름도 생소한 영양소 ‘비오틴’#탈모 보조제의 단골 영양소‘비오틴’이라는...</td>\n",
       "      <td>103</td>\n",
       "    </tr>\n",
       "    <tr>\n",
       "      <th>...</th>\n",
       "      <td>...</td>\n",
       "      <td>...</td>\n",
       "    </tr>\n",
       "    <tr>\n",
       "      <th>29678</th>\n",
       "      <td>요즘 생긴 작은 책방은 로컬 문화를 지지해주는 역할을 하기도 한다.</td>\n",
       "      <td>37</td>\n",
       "    </tr>\n",
       "    <tr>\n",
       "      <th>29679</th>\n",
       "      <td>은평구의 책방비엥이 대표적인 예다.</td>\n",
       "      <td>19</td>\n",
       "    </tr>\n",
       "    <tr>\n",
       "      <th>29680</th>\n",
       "      <td>대표 권순미는 편집 디자이너이자 지역 활동가.</td>\n",
       "      <td>25</td>\n",
       "    </tr>\n",
       "    <tr>\n",
       "      <th>29681</th>\n",
       "      <td>그는 지역의 출판사와 작가의 책을 소개할 뿐 아니라, 지역에서 가장 오래된 독서 모...</td>\n",
       "      <td>72</td>\n",
       "    </tr>\n",
       "    <tr>\n",
       "      <th>29682</th>\n",
       "      <td>지역 도서관에 읽을 만한 독립 출판물을 큐레이션, 수급하는 일도 진행하고 있다</td>\n",
       "      <td>43</td>\n",
       "    </tr>\n",
       "  </tbody>\n",
       "</table>\n",
       "<p>29683 rows × 2 columns</p>\n",
       "</div>"
      ],
      "text/plain": [
       "                                                     txt  len\n",
       "0      ‘비타민B7’ ‘비타민H’로도 불리는 비오틴은 모발과 피부, 손톱을 건강하게 유지하...   71\n",
       "1      특히 머리카락을 구성하는 단백질인 케라틴 생성에 중요한 역할을 담당하고, 결핍 시 ...   84\n",
       "2                     탈모로 고민하는 사람들 사이에서 특히 이름난 영양소인 비오틴.   34\n",
       "3                             비오틴의 역할과 효과 보는 섭취 팁을 소개한다.   26\n",
       "4      WHAT: 이름도 생소한 영양소 ‘비오틴’#탈모 보조제의 단골 영양소‘비오틴’이라는...  103\n",
       "...                                                  ...  ...\n",
       "29678              요즘 생긴 작은 책방은 로컬 문화를 지지해주는 역할을 하기도 한다.   37\n",
       "29679                                은평구의 책방비엥이 대표적인 예다.   19\n",
       "29680                          대표 권순미는 편집 디자이너이자 지역 활동가.   25\n",
       "29681  그는 지역의 출판사와 작가의 책을 소개할 뿐 아니라, 지역에서 가장 오래된 독서 모...   72\n",
       "29682        지역 도서관에 읽을 만한 독립 출판물을 큐레이션, 수급하는 일도 진행하고 있다   43\n",
       "\n",
       "[29683 rows x 2 columns]"
      ]
     },
     "execution_count": 4,
     "metadata": {},
     "output_type": "execute_result"
    }
   ],
   "source": [
    "df = pd.read_csv('kb_godenlife_split_final.csv')\n",
    "df = df.drop('Unnamed: 0',axis=1)\n",
    "df"
   ]
  },
  {
   "cell_type": "code",
   "execution_count": 5,
   "metadata": {},
   "outputs": [],
   "source": [
    "def get_openai_response(prompt, print_output=False):\n",
    "    model = \"gpt-3.5-turbo\"\n",
    "\n",
    "    # 질문 작성하기\n",
    "    query = prompt\n",
    "    # 메시지 설정하기\n",
    "    messages = [\n",
    "            {\"role\": \"system\", \"content\": \"You are a helpful assistant.\"},\n",
    "            {\"role\": \"user\", \"content\": query}\n",
    "    ]\n",
    "\n",
    "    # ChatGPT API 호출하기\n",
    "    response = openai.ChatCompletion.create(\n",
    "        model=model,\n",
    "        messages=messages\n",
    "    )\n",
    "    answer = response['choices'][0]['message']['content']\n",
    "    return answer"
   ]
  },
  {
   "cell_type": "markdown",
   "metadata": {},
   "source": [
    "# 프롬프트 결정"
   ]
  },
  {
   "cell_type": "code",
   "execution_count": 6,
   "metadata": {},
   "outputs": [],
   "source": [
    "prompt = '이 글을 고객친화적인 말투로 한 문장으로 바꿔줘.'"
   ]
  },
  {
   "cell_type": "markdown",
   "metadata": {},
   "source": [
    "# 데이터프레임 생성(100행씩, 인덱스 지정 필수!)"
   ]
  },
  {
   "cell_type": "code",
   "execution_count": 7,
   "metadata": {},
   "outputs": [],
   "source": [
    "df = df[:10]"
   ]
  },
  {
   "cell_type": "code",
   "execution_count": 8,
   "metadata": {},
   "outputs": [
    {
     "name": "stdout",
     "output_type": "stream",
     "text": [
      "비오틴은 비타민 B7, 비타민 H로도 불리며, 모발, 피부, 손톱의 건강을 유지하는 데 꼭 필요한 영양소입니다.\n",
      "saved_0\n",
      "모발 비타민은 특히 머리카락을 구성하는 케라틴의 생성에 매우 중요한 역할을 맡고 있어, 결핍하면 탈모가 발생할 수 있습니다.\n",
      "비오틴은 탈모로 고민하는 분들 사이에서 매우 인기 있는 영양소입니다.\n",
      "비오틴은 머리와 피부 건강에 도움을 주는 영양소로, 머리카락 강화와 피부 미용 효과가 있어요. 비오틴을 섭취하는 방법은 음식물에서 섭취하거나 비오틴 보충제를 복용하는 것이에요.\n",
      "비오틴은 탈모 보조제에 자주 포함된 영양소로, 탈모 샴푸나 보조제 패키지에서 가장 많이 언급되는 단어입니다.\n",
      "맥주 효모를 주성분으로 함유한 다른 제품들은 모두 비오틴 영양소 관련 제품으로 광고되며, 이는 모발을 강화하는데 도움을 줄 수 있다고 알려져 있습니다.\n",
      "비오틴은 탈모 예방에 도움되는 영양소로 유명하다!\n",
      "비오틴은 비타민B 중 하나로, 우리 몸의 탄수화물, 단백질, 지방의 대사 작용과 에너지 생성에 필요한 영양소입니다.\n",
      "비오틴은 모발, 손발톱, 피부의 케라틴 생성에 중요한 역할을 하는데, 부족하면 이로 인해 모발과 손발톱이 약해질 뿐만 아니라 지루성 피부염도 발생할 수 있습니다.\n",
      "건강한 성인이라면 비오틴 결핍은 거의 없어요. 성인의 일일 비오틴 권장 섭취량은 30ug입니다.\n"
     ]
    }
   ],
   "source": [
    "result_list = []\n",
    "# user_id_max = 3576\n",
    "i = 0  ###########여기 인덱스 맞게 수정!!\n",
    "while i < len(df):\n",
    "    try:\n",
    "        result = ''\n",
    "#         user = df['user'][i]\n",
    "#         script = df['txt'][i].strip('\\n')\n",
    "        script = df['txt'][i]\n",
    "#         script = split_script_4097(script)\n",
    "\n",
    "        request = script + ' ' + prompt\n",
    "        response = get_openai_response(request)\n",
    "        response = response.strip('\\n')\n",
    "        result += response\n",
    "\n",
    "        result_list.append({'idx':i,'trans_txt': result})\n",
    "        print(response)\n",
    "    except openai.error.InvalidRequestError:\n",
    "        continue\n",
    "    except openai.error.RateLimitError:\n",
    "        continue\n",
    "    if i % 100 == 0:\n",
    "        url = 'gpt_result_'+str(i)+'.csv'\n",
    "        df_result = pd.DataFrame(result_list[i-100:i])\n",
    "        df_result.to_csv(url, mode='a', index=False, encoding='utf-8-sig')\n",
    "        print('saved_'+str(i))\n",
    "    i += 1\n",
    "\n",
    "# print(len(result_list))\n",
    "# df_result = pd.DataFrame(result_list)\n",
    "# df_result.to_csv('golden_trans_100.csv', mode='a', index=False, encoding='utf-8-sig')"
   ]
  },
  {
   "cell_type": "code",
   "execution_count": 14,
   "metadata": {},
   "outputs": [
    {
     "data": {
      "text/html": [
       "<div>\n",
       "<style scoped>\n",
       "    .dataframe tbody tr th:only-of-type {\n",
       "        vertical-align: middle;\n",
       "    }\n",
       "\n",
       "    .dataframe tbody tr th {\n",
       "        vertical-align: top;\n",
       "    }\n",
       "\n",
       "    .dataframe thead th {\n",
       "        text-align: right;\n",
       "    }\n",
       "</style>\n",
       "<table border=\"1\" class=\"dataframe\">\n",
       "  <thead>\n",
       "    <tr style=\"text-align: right;\">\n",
       "      <th></th>\n",
       "      <th>txt</th>\n",
       "      <th>len</th>\n",
       "    </tr>\n",
       "  </thead>\n",
       "  <tbody>\n",
       "    <tr>\n",
       "      <th>0</th>\n",
       "      <td>‘비타민B7’ ‘비타민H’로도 불리는 비오틴은 모발과 피부, 손톱을 건강하게 유지하...</td>\n",
       "      <td>71</td>\n",
       "    </tr>\n",
       "    <tr>\n",
       "      <th>1</th>\n",
       "      <td>특히 머리카락을 구성하는 단백질인 케라틴 생성에 중요한 역할을 담당하고, 결핍 시 ...</td>\n",
       "      <td>84</td>\n",
       "    </tr>\n",
       "    <tr>\n",
       "      <th>2</th>\n",
       "      <td>탈모로 고민하는 사람들 사이에서 특히 이름난 영양소인 비오틴.</td>\n",
       "      <td>34</td>\n",
       "    </tr>\n",
       "    <tr>\n",
       "      <th>3</th>\n",
       "      <td>비오틴의 역할과 효과 보는 섭취 팁을 소개한다.</td>\n",
       "      <td>26</td>\n",
       "    </tr>\n",
       "    <tr>\n",
       "      <th>4</th>\n",
       "      <td>WHAT: 이름도 생소한 영양소 ‘비오틴’#탈모 보조제의 단골 영양소‘비오틴’이라는...</td>\n",
       "      <td>103</td>\n",
       "    </tr>\n",
       "    <tr>\n",
       "      <th>5</th>\n",
       "      <td>비오틴은 맥주 효모의 주성분으로 모발이 강화된다고 광고하는 다양한 ‘맥주 효모’ 제...</td>\n",
       "      <td>68</td>\n",
       "    </tr>\n",
       "    <tr>\n",
       "      <th>6</th>\n",
       "      <td>그만큼 비오틴은 탈모에 효과가 있는 영양소로 잘 알려져 있다.</td>\n",
       "      <td>34</td>\n",
       "    </tr>\n",
       "    <tr>\n",
       "      <th>7</th>\n",
       "      <td>비오틴은 비타민B 군의 종류 중 하나로 우리 몸의 3대 영양소인 탄수화물, 단백질,...</td>\n",
       "      <td>77</td>\n",
       "    </tr>\n",
       "    <tr>\n",
       "      <th>8</th>\n",
       "      <td>특히 모발이나 손발톱, 피부를 구성하는 케라틴 생성에 깊이 관여하기 때문에 비오틴이...</td>\n",
       "      <td>92</td>\n",
       "    </tr>\n",
       "    <tr>\n",
       "      <th>9</th>\n",
       "      <td>#건강한 성인이라면 비오틴 결핍은 거의 없어성인의 비오틴 권장 필요량은 하루 30u...</td>\n",
       "      <td>50</td>\n",
       "    </tr>\n",
       "  </tbody>\n",
       "</table>\n",
       "</div>"
      ],
      "text/plain": [
       "                                                 txt  len\n",
       "0  ‘비타민B7’ ‘비타민H’로도 불리는 비오틴은 모발과 피부, 손톱을 건강하게 유지하...   71\n",
       "1  특히 머리카락을 구성하는 단백질인 케라틴 생성에 중요한 역할을 담당하고, 결핍 시 ...   84\n",
       "2                 탈모로 고민하는 사람들 사이에서 특히 이름난 영양소인 비오틴.   34\n",
       "3                         비오틴의 역할과 효과 보는 섭취 팁을 소개한다.   26\n",
       "4  WHAT: 이름도 생소한 영양소 ‘비오틴’#탈모 보조제의 단골 영양소‘비오틴’이라는...  103\n",
       "5  비오틴은 맥주 효모의 주성분으로 모발이 강화된다고 광고하는 다양한 ‘맥주 효모’ 제...   68\n",
       "6                 그만큼 비오틴은 탈모에 효과가 있는 영양소로 잘 알려져 있다.   34\n",
       "7  비오틴은 비타민B 군의 종류 중 하나로 우리 몸의 3대 영양소인 탄수화물, 단백질,...   77\n",
       "8  특히 모발이나 손발톱, 피부를 구성하는 케라틴 생성에 깊이 관여하기 때문에 비오틴이...   92\n",
       "9  #건강한 성인이라면 비오틴 결핍은 거의 없어성인의 비오틴 권장 필요량은 하루 30u...   50"
      ]
     },
     "execution_count": 14,
     "metadata": {},
     "output_type": "execute_result"
    }
   ],
   "source": [
    "df.to_csv('gpt_trans.csv')\n",
    "test = pd.read_csv('gpt_trans.csv')\n",
    "test = test.drop('Unnamed: 0',axis=1)\n",
    "test"
   ]
  },
  {
   "cell_type": "code",
   "execution_count": null,
   "metadata": {},
   "outputs": [],
   "source": []
  }
 ],
 "metadata": {
  "colab": {
   "provenance": []
  },
  "kernelspec": {
   "display_name": "Python 3 (ipykernel)",
   "language": "python",
   "name": "python3"
  },
  "language_info": {
   "codemirror_mode": {
    "name": "ipython",
    "version": 3
   },
   "file_extension": ".py",
   "mimetype": "text/x-python",
   "name": "python",
   "nbconvert_exporter": "python",
   "pygments_lexer": "ipython3",
   "version": "3.9.13"
  }
 },
 "nbformat": 4,
 "nbformat_minor": 1
}
