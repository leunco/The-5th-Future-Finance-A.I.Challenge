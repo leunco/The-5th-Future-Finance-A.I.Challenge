{
  "cells": [
    {
      "cell_type": "markdown",
      "source": [
        "# 문서 요약\n",
        "\n",
        "- 문서 길이가 길므로 gensim 라이브러리를 이용하여 추출 요약\n",
        "\n",
        "- 추출 요약된 문장을 기준으로 문단 구성\n",
        "\n",
        "- KoBART를 이용하여 문단 별 추상 요약"
      ],
      "metadata": {
        "id": "ZM1ymrWfMmBR"
      },
      "id": "ZM1ymrWfMmBR"
    },
    {
      "cell_type": "markdown",
      "source": [
        "## 라이브러리 다운로드"
      ],
      "metadata": {
        "id": "0so3WkRuL8lL"
      },
      "id": "0so3WkRuL8lL"
    },
    {
      "cell_type": "code",
      "execution_count": null,
      "id": "c47ac831",
      "metadata": {
        "id": "c47ac831",
        "outputId": "f3ceffb5-d074-4ee7-b582-6f545440977c"
      },
      "outputs": [
        {
          "name": "stdout",
          "output_type": "stream",
          "text": [
            "Requirement already satisfied: gensim==3.8.0 in c:\\programdata\\anaconda3\\lib\\site-packages (3.8.0)\n",
            "Requirement already satisfied: numpy>=1.11.3 in c:\\programdata\\anaconda3\\lib\\site-packages (from gensim==3.8.0) (1.20.1)\n",
            "Requirement already satisfied: smart-open>=1.7.0 in c:\\programdata\\anaconda3\\lib\\site-packages (from gensim==3.8.0) (6.3.0)\n",
            "Requirement already satisfied: six>=1.5.0 in c:\\programdata\\anaconda3\\lib\\site-packages (from gensim==3.8.0) (1.15.0)\n",
            "Requirement already satisfied: scipy>=0.18.1 in c:\\programdata\\anaconda3\\lib\\site-packages (from gensim==3.8.0) (1.6.2)\n"
          ]
        }
      ],
      "source": [
        "!pip install \"gensim==3.8.0\""
      ]
    },
    {
      "cell_type": "code",
      "source": [
        "!pip install transformers"
      ],
      "metadata": {
        "colab": {
          "base_uri": "https://localhost:8080/"
        },
        "id": "B8-pAw4uSxXg",
        "outputId": "5327d052-993a-45a4-be12-bc73539c42b8"
      },
      "id": "B8-pAw4uSxXg",
      "execution_count": null,
      "outputs": [
        {
          "output_type": "stream",
          "name": "stdout",
          "text": [
            "Collecting transformers\n",
            "  Downloading transformers-4.31.0-py3-none-any.whl (7.4 MB)\n",
            "\u001b[2K     \u001b[90m━━━━━━━━━━━━━━━━━━━━━━━━━━━━━━━━━━━━━━━━\u001b[0m \u001b[32m7.4/7.4 MB\u001b[0m \u001b[31m33.2 MB/s\u001b[0m eta \u001b[36m0:00:00\u001b[0m\n",
            "\u001b[?25hRequirement already satisfied: filelock in /usr/local/lib/python3.10/dist-packages (from transformers) (3.12.2)\n",
            "Collecting huggingface-hub<1.0,>=0.14.1 (from transformers)\n",
            "  Downloading huggingface_hub-0.16.4-py3-none-any.whl (268 kB)\n",
            "\u001b[2K     \u001b[90m━━━━━━━━━━━━━━━━━━━━━━━━━━━━━━━━━━━━━━━\u001b[0m \u001b[32m268.8/268.8 kB\u001b[0m \u001b[31m9.5 MB/s\u001b[0m eta \u001b[36m0:00:00\u001b[0m\n",
            "\u001b[?25hRequirement already satisfied: numpy>=1.17 in /usr/local/lib/python3.10/dist-packages (from transformers) (1.23.5)\n",
            "Requirement already satisfied: packaging>=20.0 in /usr/local/lib/python3.10/dist-packages (from transformers) (23.1)\n",
            "Requirement already satisfied: pyyaml>=5.1 in /usr/local/lib/python3.10/dist-packages (from transformers) (6.0.1)\n",
            "Requirement already satisfied: regex!=2019.12.17 in /usr/local/lib/python3.10/dist-packages (from transformers) (2023.6.3)\n",
            "Requirement already satisfied: requests in /usr/local/lib/python3.10/dist-packages (from transformers) (2.31.0)\n",
            "Collecting tokenizers!=0.11.3,<0.14,>=0.11.1 (from transformers)\n",
            "  Downloading tokenizers-0.13.3-cp310-cp310-manylinux_2_17_x86_64.manylinux2014_x86_64.whl (7.8 MB)\n",
            "\u001b[2K     \u001b[90m━━━━━━━━━━━━━━━━━━━━━━━━━━━━━━━━━━━━━━━━\u001b[0m \u001b[32m7.8/7.8 MB\u001b[0m \u001b[31m78.9 MB/s\u001b[0m eta \u001b[36m0:00:00\u001b[0m\n",
            "\u001b[?25hCollecting safetensors>=0.3.1 (from transformers)\n",
            "  Downloading safetensors-0.3.2-cp310-cp310-manylinux_2_17_x86_64.manylinux2014_x86_64.whl (1.3 MB)\n",
            "\u001b[2K     \u001b[90m━━━━━━━━━━━━━━━━━━━━━━━━━━━━━━━━━━━━━━━━\u001b[0m \u001b[32m1.3/1.3 MB\u001b[0m \u001b[31m52.9 MB/s\u001b[0m eta \u001b[36m0:00:00\u001b[0m\n",
            "\u001b[?25hRequirement already satisfied: tqdm>=4.27 in /usr/local/lib/python3.10/dist-packages (from transformers) (4.66.1)\n",
            "Requirement already satisfied: fsspec in /usr/local/lib/python3.10/dist-packages (from huggingface-hub<1.0,>=0.14.1->transformers) (2023.6.0)\n",
            "Requirement already satisfied: typing-extensions>=3.7.4.3 in /usr/local/lib/python3.10/dist-packages (from huggingface-hub<1.0,>=0.14.1->transformers) (4.7.1)\n",
            "Requirement already satisfied: charset-normalizer<4,>=2 in /usr/local/lib/python3.10/dist-packages (from requests->transformers) (3.2.0)\n",
            "Requirement already satisfied: idna<4,>=2.5 in /usr/local/lib/python3.10/dist-packages (from requests->transformers) (3.4)\n",
            "Requirement already satisfied: urllib3<3,>=1.21.1 in /usr/local/lib/python3.10/dist-packages (from requests->transformers) (2.0.4)\n",
            "Requirement already satisfied: certifi>=2017.4.17 in /usr/local/lib/python3.10/dist-packages (from requests->transformers) (2023.7.22)\n",
            "Installing collected packages: tokenizers, safetensors, huggingface-hub, transformers\n",
            "Successfully installed huggingface-hub-0.16.4 safetensors-0.3.2 tokenizers-0.13.3 transformers-4.31.0\n"
          ]
        }
      ]
    },
    {
      "cell_type": "code",
      "source": [
        "!pip install bert_score"
      ],
      "metadata": {
        "colab": {
          "base_uri": "https://localhost:8080/"
        },
        "id": "wbv3vwkmSxaZ",
        "outputId": "5d359ec4-21a3-4370-87af-53353502884b"
      },
      "id": "wbv3vwkmSxaZ",
      "execution_count": null,
      "outputs": [
        {
          "output_type": "stream",
          "name": "stdout",
          "text": [
            "Collecting bert_score\n",
            "  Downloading bert_score-0.3.13-py3-none-any.whl (61 kB)\n",
            "\u001b[?25l     \u001b[90m━━━━━━━━━━━━━━━━━━━━━━━━━━━━━━━━━━━━━━━━\u001b[0m \u001b[32m0.0/61.1 kB\u001b[0m \u001b[31m?\u001b[0m eta \u001b[36m-:--:--\u001b[0m\r\u001b[2K     \u001b[91m━━━━━━━━━━━━━━━━━━━━━━━━━━━━━━━━━\u001b[0m\u001b[90m╺\u001b[0m\u001b[90m━━━━━━\u001b[0m \u001b[32m51.2/61.1 kB\u001b[0m \u001b[31m1.6 MB/s\u001b[0m eta \u001b[36m0:00:01\u001b[0m\r\u001b[2K     \u001b[90m━━━━━━━━━━━━━━━━━━━━━━━━━━━━━━━━━━━━━━━━\u001b[0m \u001b[32m61.1/61.1 kB\u001b[0m \u001b[31m1.4 MB/s\u001b[0m eta \u001b[36m0:00:00\u001b[0m\n",
            "\u001b[?25hRequirement already satisfied: torch>=1.0.0 in /usr/local/lib/python3.10/dist-packages (from bert_score) (2.0.1+cu118)\n",
            "Requirement already satisfied: pandas>=1.0.1 in /usr/local/lib/python3.10/dist-packages (from bert_score) (1.5.3)\n",
            "Requirement already satisfied: transformers>=3.0.0 in /usr/local/lib/python3.10/dist-packages (from bert_score) (4.31.0)\n",
            "Requirement already satisfied: numpy in /usr/local/lib/python3.10/dist-packages (from bert_score) (1.23.5)\n",
            "Requirement already satisfied: requests in /usr/local/lib/python3.10/dist-packages (from bert_score) (2.31.0)\n",
            "Requirement already satisfied: tqdm>=4.31.1 in /usr/local/lib/python3.10/dist-packages (from bert_score) (4.66.1)\n",
            "Requirement already satisfied: matplotlib in /usr/local/lib/python3.10/dist-packages (from bert_score) (3.7.1)\n",
            "Requirement already satisfied: packaging>=20.9 in /usr/local/lib/python3.10/dist-packages (from bert_score) (23.1)\n",
            "Requirement already satisfied: python-dateutil>=2.8.1 in /usr/local/lib/python3.10/dist-packages (from pandas>=1.0.1->bert_score) (2.8.2)\n",
            "Requirement already satisfied: pytz>=2020.1 in /usr/local/lib/python3.10/dist-packages (from pandas>=1.0.1->bert_score) (2023.3)\n",
            "Requirement already satisfied: filelock in /usr/local/lib/python3.10/dist-packages (from torch>=1.0.0->bert_score) (3.12.2)\n",
            "Requirement already satisfied: typing-extensions in /usr/local/lib/python3.10/dist-packages (from torch>=1.0.0->bert_score) (4.7.1)\n",
            "Requirement already satisfied: sympy in /usr/local/lib/python3.10/dist-packages (from torch>=1.0.0->bert_score) (1.12)\n",
            "Requirement already satisfied: networkx in /usr/local/lib/python3.10/dist-packages (from torch>=1.0.0->bert_score) (3.1)\n",
            "Requirement already satisfied: jinja2 in /usr/local/lib/python3.10/dist-packages (from torch>=1.0.0->bert_score) (3.1.2)\n",
            "Requirement already satisfied: triton==2.0.0 in /usr/local/lib/python3.10/dist-packages (from torch>=1.0.0->bert_score) (2.0.0)\n",
            "Requirement already satisfied: cmake in /usr/local/lib/python3.10/dist-packages (from triton==2.0.0->torch>=1.0.0->bert_score) (3.27.2)\n",
            "Requirement already satisfied: lit in /usr/local/lib/python3.10/dist-packages (from triton==2.0.0->torch>=1.0.0->bert_score) (16.0.6)\n",
            "Requirement already satisfied: huggingface-hub<1.0,>=0.14.1 in /usr/local/lib/python3.10/dist-packages (from transformers>=3.0.0->bert_score) (0.16.4)\n",
            "Requirement already satisfied: pyyaml>=5.1 in /usr/local/lib/python3.10/dist-packages (from transformers>=3.0.0->bert_score) (6.0.1)\n",
            "Requirement already satisfied: regex!=2019.12.17 in /usr/local/lib/python3.10/dist-packages (from transformers>=3.0.0->bert_score) (2023.6.3)\n",
            "Requirement already satisfied: tokenizers!=0.11.3,<0.14,>=0.11.1 in /usr/local/lib/python3.10/dist-packages (from transformers>=3.0.0->bert_score) (0.13.3)\n",
            "Requirement already satisfied: safetensors>=0.3.1 in /usr/local/lib/python3.10/dist-packages (from transformers>=3.0.0->bert_score) (0.3.2)\n",
            "Requirement already satisfied: contourpy>=1.0.1 in /usr/local/lib/python3.10/dist-packages (from matplotlib->bert_score) (1.1.0)\n",
            "Requirement already satisfied: cycler>=0.10 in /usr/local/lib/python3.10/dist-packages (from matplotlib->bert_score) (0.11.0)\n",
            "Requirement already satisfied: fonttools>=4.22.0 in /usr/local/lib/python3.10/dist-packages (from matplotlib->bert_score) (4.42.0)\n",
            "Requirement already satisfied: kiwisolver>=1.0.1 in /usr/local/lib/python3.10/dist-packages (from matplotlib->bert_score) (1.4.4)\n",
            "Requirement already satisfied: pillow>=6.2.0 in /usr/local/lib/python3.10/dist-packages (from matplotlib->bert_score) (9.4.0)\n",
            "Requirement already satisfied: pyparsing>=2.3.1 in /usr/local/lib/python3.10/dist-packages (from matplotlib->bert_score) (3.1.1)\n",
            "Requirement already satisfied: charset-normalizer<4,>=2 in /usr/local/lib/python3.10/dist-packages (from requests->bert_score) (3.2.0)\n",
            "Requirement already satisfied: idna<4,>=2.5 in /usr/local/lib/python3.10/dist-packages (from requests->bert_score) (3.4)\n",
            "Requirement already satisfied: urllib3<3,>=1.21.1 in /usr/local/lib/python3.10/dist-packages (from requests->bert_score) (2.0.4)\n",
            "Requirement already satisfied: certifi>=2017.4.17 in /usr/local/lib/python3.10/dist-packages (from requests->bert_score) (2023.7.22)\n",
            "Requirement already satisfied: fsspec in /usr/local/lib/python3.10/dist-packages (from huggingface-hub<1.0,>=0.14.1->transformers>=3.0.0->bert_score) (2023.6.0)\n",
            "Requirement already satisfied: six>=1.5 in /usr/local/lib/python3.10/dist-packages (from python-dateutil>=2.8.1->pandas>=1.0.1->bert_score) (1.16.0)\n",
            "Requirement already satisfied: MarkupSafe>=2.0 in /usr/local/lib/python3.10/dist-packages (from jinja2->torch>=1.0.0->bert_score) (2.1.3)\n",
            "Requirement already satisfied: mpmath>=0.19 in /usr/local/lib/python3.10/dist-packages (from sympy->torch>=1.0.0->bert_score) (1.3.0)\n",
            "Installing collected packages: bert_score\n",
            "Successfully installed bert_score-0.3.13\n"
          ]
        }
      ]
    },
    {
      "cell_type": "markdown",
      "source": [
        "## 데이터 불러오기"
      ],
      "metadata": {
        "id": "E-6EOUYnL-4_"
      },
      "id": "E-6EOUYnL-4_"
    },
    {
      "cell_type": "code",
      "execution_count": null,
      "id": "bee408e1",
      "metadata": {
        "id": "bee408e1"
      },
      "outputs": [],
      "source": [
        "from gensim.summarization.summarizer import summarize\n",
        "import pandas as pd"
      ]
    },
    {
      "cell_type": "code",
      "execution_count": null,
      "id": "0e364f9a",
      "metadata": {
        "id": "0e364f9a"
      },
      "outputs": [],
      "source": [
        "df = pd.read_csv('KB골든라이프X_건강new.csv')"
      ]
    },
    {
      "cell_type": "code",
      "execution_count": null,
      "id": "40c5bff3",
      "metadata": {
        "id": "40c5bff3",
        "outputId": "cae74337-1022-4419-95bd-7e33505dd971"
      },
      "outputs": [
        {
          "data": {
            "text/html": [
              "<div>\n",
              "<style scoped>\n",
              "    .dataframe tbody tr th:only-of-type {\n",
              "        vertical-align: middle;\n",
              "    }\n",
              "\n",
              "    .dataframe tbody tr th {\n",
              "        vertical-align: top;\n",
              "    }\n",
              "\n",
              "    .dataframe thead th {\n",
              "        text-align: right;\n",
              "    }\n",
              "</style>\n",
              "<table border=\"1\" class=\"dataframe\">\n",
              "  <thead>\n",
              "    <tr style=\"text-align: right;\">\n",
              "      <th></th>\n",
              "      <th>category</th>\n",
              "      <th>title</th>\n",
              "      <th>text</th>\n",
              "      <th>url</th>\n",
              "      <th>views</th>\n",
              "      <th>recommendation</th>\n",
              "    </tr>\n",
              "  </thead>\n",
              "  <tbody>\n",
              "    <tr>\n",
              "      <th>0</th>\n",
              "      <td>건강</td>\n",
              "      <td>자꾸만 '깜빡깜빡'하는 나, 건망증일까 치매일까?</td>\n",
              "      <td>‘깜빡깜빡’하는 일이 잦아지면 ‘나도 혹시 치매가 아닐까’라는 불안감이 엄습해 온다...</td>\n",
              "      <td>https://www.kbgoldenlifex.com/senior/XAA72P050...</td>\n",
              "      <td>131</td>\n",
              "      <td>https://www.kbgoldenlifex.com/senior/XAA72P050...</td>\n",
              "    </tr>\n",
              "    <tr>\n",
              "      <th>1</th>\n",
              "      <td>건강</td>\n",
              "      <td>평소에 먹는 약이 있다면? 이 음식을 주의하세요!</td>\n",
              "      <td>기관지 약, 알레르기 약, 고혈압 약, 고지혈증 치료제 등등… 평소에 복용하는 약 ...</td>\n",
              "      <td>https://www.kbgoldenlifex.com/senior/XAA72P050...</td>\n",
              "      <td>1777</td>\n",
              "      <td>https://kbgoldenlifex.com/senior/XAA72P05020.k...</td>\n",
              "    </tr>\n",
              "  </tbody>\n",
              "</table>\n",
              "</div>"
            ],
            "text/plain": [
              "  category                        title  \\\n",
              "0       건강  자꾸만 '깜빡깜빡'하는 나, 건망증일까 치매일까?   \n",
              "1       건강  평소에 먹는 약이 있다면? 이 음식을 주의하세요!   \n",
              "\n",
              "                                                text  \\\n",
              "0  ‘깜빡깜빡’하는 일이 잦아지면 ‘나도 혹시 치매가 아닐까’라는 불안감이 엄습해 온다...   \n",
              "1  기관지 약, 알레르기 약, 고혈압 약, 고지혈증 치료제 등등… 평소에 복용하는 약 ...   \n",
              "\n",
              "                                                 url  views  \\\n",
              "0  https://www.kbgoldenlifex.com/senior/XAA72P050...    131   \n",
              "1  https://www.kbgoldenlifex.com/senior/XAA72P050...   1777   \n",
              "\n",
              "                                      recommendation  \n",
              "0  https://www.kbgoldenlifex.com/senior/XAA72P050...  \n",
              "1  https://kbgoldenlifex.com/senior/XAA72P05020.k...  "
            ]
          },
          "execution_count": 5,
          "metadata": {},
          "output_type": "execute_result"
        }
      ],
      "source": [
        "df"
      ]
    },
    {
      "cell_type": "code",
      "execution_count": null,
      "id": "9c019c4d",
      "metadata": {
        "id": "9c019c4d"
      },
      "outputs": [],
      "source": [
        "text = df.iloc[0,2]"
      ]
    },
    {
      "cell_type": "code",
      "execution_count": null,
      "id": "fd862cb8",
      "metadata": {
        "id": "fd862cb8"
      },
      "outputs": [],
      "source": [
        "text = text.replace(\".\",\". \").replace(\".  \",\". \")"
      ]
    },
    {
      "cell_type": "markdown",
      "source": [
        "## 추출적 요약을 이용하여 문단 구성"
      ],
      "metadata": {
        "id": "cvZlcIP4MAm7"
      },
      "id": "cvZlcIP4MAm7"
    },
    {
      "cell_type": "code",
      "execution_count": null,
      "id": "a53dbe89",
      "metadata": {
        "id": "a53dbe89",
        "outputId": "0aa1074c-df48-4567-e8aa-e5f76ac7b53c"
      },
      "outputs": [
        {
          "name": "stdout",
          "output_type": "stream",
          "text": [
            "단순한 건망증인지, 아니면 치매 초기 증상인지 스스로 구별할 방법은 없을까?\n",
            "건망증과 치매 바로 알기잠 못 자거나 집중력 떨어질 때, 사소한 일 잊는 건망증건망증은 뇌에 정보를 저장하는 기능에는 문제가 없지만, 기억해 내는 속도가 느리거나 순간적으로 바로 기억하지 못하는 증상을 뜻한다.\n",
            "기억력이 나빠진 것조차 인지 못 하는 치매치매는 쉽게 말해 정보 자체를 뇌에 저장하지 못하는 질병이다.\n",
            "관련 정보를 살짝만 귀띔해 줘도 금방 기억해 내는 건망증과 달리, 치매는 아무리 힌트를 줘도 전혀 떠올리지 못한다.\n",
            "자신이 기억력이 나빠진 것조차 인지하지 못하는 경우도 많다.\n",
            "치매와 건망증 구별법뇌가 기억을 저장하는 과정을 살펴보면 나의 이 ‘깜빡깜빡’하는 증상이 치매 증상인지, 건망증 증상인지 어느 정도 구별된다.\n",
            "이때 건망증은 전두엽 기능이 떨어지면서 인출에 장애가 일어나는 현상인 반면, 치매는 신경 조직 손상으로 인해 기억을 저장하는 과정 자체가 망가져 문제가 생기는 경우다.\n",
            "단지 일종의 인출 장애로 떠올리지 못하는 것!□ “지갑을 어디에 뒀더라?” 외출 준비를 하면서 여러 가지 일을 동시에 처리할 때 일어나는, 과부하로 인한 건망증이다.\n",
            "건망증, 치매 전 단계일 수도 있어요!치매는 어느 날 갑자기 찾아오는 병이 아니다.\n",
            "기억력에는 별다른 문제가 없더라도 다른 인지 기능이 약해졌거나, 성격이 갑자기 바뀌거나, 사고와 행동이 느려지는 증상도 경도인지장애를 알리는 신호일 수 있다.\n",
            "기억력 강화 훈련을 위해서는 메모지를 보지 말고 목록을 외워 기억에 의존해 구매하는 방법을 써보길 바란다.\n",
            "이런 특성 때문에 실제 치매 초기 환자들은 소설을 완독하지 못하는 경우가 많다는 연구 결과도 있다고.\n",
            "□ 기억력 저하로 일상생활에 불편을 느낀다.\n"
          ]
        }
      ],
      "source": [
        "# 추출적 요약\n",
        "summary = summarize(text, ratio = 0.2)\n",
        "print(summary)"
      ]
    },
    {
      "cell_type": "code",
      "execution_count": null,
      "id": "2bc730d5",
      "metadata": {
        "id": "2bc730d5",
        "outputId": "e6ac9568-dc07-4ab6-8cd5-a61448122186"
      },
      "outputs": [
        {
          "data": {
            "text/plain": [
              "['단순한 건망증인지, 아니면 치매 초기 증상인지 스스로 구별할 방법은 없을까?',\n",
              " '건망증과 치매 바로 알기잠 못 자거나 집중력 떨어질 때, 사소한 일 잊는 건망증건망증은 뇌에 정보를 저장하는 기능에는 문제가 없지만, 기억해 내는 속도가 느리거나 순간적으로 바로 기억하지 못하는 증상을 뜻한다.',\n",
              " '기억력이 나빠진 것조차 인지 못 하는 치매치매는 쉽게 말해 정보 자체를 뇌에 저장하지 못하는 질병이다.',\n",
              " '관련 정보를 살짝만 귀띔해 줘도 금방 기억해 내는 건망증과 달리, 치매는 아무리 힌트를 줘도 전혀 떠올리지 못한다.',\n",
              " '자신이 기억력이 나빠진 것조차 인지하지 못하는 경우도 많다.',\n",
              " '치매와 건망증 구별법뇌가 기억을 저장하는 과정을 살펴보면 나의 이 ‘깜빡깜빡’하는 증상이 치매 증상인지, 건망증 증상인지 어느 정도 구별된다.',\n",
              " '이때 건망증은 전두엽 기능이 떨어지면서 인출에 장애가 일어나는 현상인 반면, 치매는 신경 조직 손상으로 인해 기억을 저장하는 과정 자체가 망가져 문제가 생기는 경우다.',\n",
              " '단지 일종의 인출 장애로 떠올리지 못하는 것!□ “지갑을 어디에 뒀더라?” 외출 준비를 하면서 여러 가지 일을 동시에 처리할 때 일어나는, 과부하로 인한 건망증이다.',\n",
              " '건망증, 치매 전 단계일 수도 있어요!치매는 어느 날 갑자기 찾아오는 병이 아니다.',\n",
              " '기억력에는 별다른 문제가 없더라도 다른 인지 기능이 약해졌거나, 성격이 갑자기 바뀌거나, 사고와 행동이 느려지는 증상도 경도인지장애를 알리는 신호일 수 있다.',\n",
              " '기억력 강화 훈련을 위해서는 메모지를 보지 말고 목록을 외워 기억에 의존해 구매하는 방법을 써보길 바란다.',\n",
              " '이런 특성 때문에 실제 치매 초기 환자들은 소설을 완독하지 못하는 경우가 많다는 연구 결과도 있다고.',\n",
              " '□ 기억력 저하로 일상생활에 불편을 느낀다.']"
            ]
          },
          "execution_count": 27,
          "metadata": {},
          "output_type": "execute_result"
        }
      ],
      "source": [
        "summary.split('\\n')"
      ]
    },
    {
      "cell_type": "code",
      "execution_count": null,
      "id": "1feb06b2",
      "metadata": {
        "id": "1feb06b2"
      },
      "outputs": [],
      "source": [
        "paragraph = []\n",
        "temp = 0\n",
        "for i in summary.split('\\n'):\n",
        "    idx = text.find(i)\n",
        "    if idx-temp >= 100:\n",
        "        paragraph.append(text[temp:idx])\n",
        "        temp = idx\n",
        "paragraph.append(text[temp:])"
      ]
    },
    {
      "cell_type": "code",
      "execution_count": null,
      "id": "cc0afc58",
      "metadata": {
        "id": "cc0afc58",
        "outputId": "1b487a87-9f35-4fd5-e627-924fd4afeec0"
      },
      "outputs": [
        {
          "data": {
            "text/plain": [
              "['‘깜빡깜빡’하는 일이 잦아지면 ‘나도 혹시 치매가 아닐까’라는 불안감이 엄습해 온다. 증상만 놓고 보면 초기 치매인지 건망증인지, 도통 구별이 힘들기 때문. 단순한 건망증인지, 아니면 치매 초기 증상인지 스스로 구별할 방법은 없을까? 왜 없겠는가! 닮은 듯 다른 건망증과 치매, 그 구별법을 알아보자. ',\n",
              " '건망증과 치매 바로 알기잠 못 자거나 집중력 떨어질 때, 사소한 일 잊는 건망증건망증은 뇌에 정보를 저장하는 기능에는 문제가 없지만, 기억해 내는 속도가 느리거나 순간적으로 바로 기억하지 못하는 증상을 뜻한다. 병이 없는 정상 노화 과정에서 발생할 수도 있고, 스트레스가 심하거나 우울 증상이 있을 때, 잠을 잘 자지 못하거나 집중력이 떨어질 때도 발생할 수 있다. 건망증의 가장 큰 특징은 중요하지 않은 사소한 일들은 잊지만, 중요한 약속이나 큰 사건들은 잊지 않고 기억할 수 있다는 것. 건망증일 경우 힌트를 주거나 조금만 시간을 주면 금세 잊었던 사실을 떠올린다. ',\n",
              " '기억력이 나빠진 것조차 인지 못 하는 치매치매는 쉽게 말해 정보 자체를 뇌에 저장하지 못하는 질병이다. 뇌에 비정상 단백질이 쌓이는 ‘퇴행성 뇌 질환’, 뇌졸중이나 뇌출혈과 같은 ‘뇌혈관질환’, 외상으로 인한 ‘뇌 손상’ 또는 비타민B 등 신경계의 필수 영양소 결핍으로 인한 ‘뇌 기능 저하’가 원인이다. ',\n",
              " '관련 정보를 살짝만 귀띔해 줘도 금방 기억해 내는 건망증과 달리, 치매는 아무리 힌트를 줘도 전혀 떠올리지 못한다. 자신이 기억력이 나빠진 것조차 인지하지 못하는 경우도 많다. 치매와 건망증 구별법뇌가 기억을 저장하는 과정을 살펴보면 나의 이 ‘깜빡깜빡’하는 증상이 치매 증상인지, 건망증 증상인지 어느 정도 구별된다. 기억이 만들어지기 위해서는 정보가 ①등록 ②저장 ③인출되는 세 단계를 거치게 된다. ',\n",
              " '이때 건망증은 전두엽 기능이 떨어지면서 인출에 장애가 일어나는 현상인 반면, 치매는 신경 조직 손상으로 인해 기억을 저장하는 과정 자체가 망가져 문제가 생기는 경우다. #건망증과 치매, 이런 점이 달라요!#구체적 사례로 살펴본 건망증과 치매 증상<건망증 의심 사례>□ “어제저녁은 뭘 먹었지?” 무엇을 먹었는지에 대한 기억이 사라진 건 아니다. ',\n",
              " '단지 일종의 인출 장애로 떠올리지 못하는 것!□ “지갑을 어디에 뒀더라?” 외출 준비를 하면서 여러 가지 일을 동시에 처리할 때 일어나는, 과부하로 인한 건망증이다. □ “어디에다 차를 세워뒀지?” 무의식적으로 주차하고 와서 기억하지 못하는 것일 뿐. 이런 경우는 건망증이다. <치매 의심 사례>□ “어제 저녁을 ‘누구랑’ 먹었더라?” 만났던 특정인을, 그것도 식사까지 함께한 지인이 누군지 잊었다면 치매를 의심해 봐야 한다. □ “지금이 무슨 계절이지?” 사람에게는 시간과 공간을 올바르게 인식하는 ‘지남력(指南力)’이 있다. ‘지금은 여름이지’, ‘내가 사는 곳은 OO 시지’ 등 굳이 확인하지 않아도 저절로 파악하는 능력 말이다. 하지만 초기 치매 환자는 ‘오늘이 무슨 요일인지’, ‘지금이 무슨 계절인지’를 순간순간 잊는다. 수년간 정기적으로 같은 날짜에 병원을 방문해 진료받고 있는데, 그 날짜를 착각하는 것 역시 치매 증상 중 하나인 지남력 장애일 가능성이 높으니 주의하자. □ “주차장 저 흰 선은 뭐지?” 차를 어디 세워뒀는지 잊는 것은 건망증이지만, 주차선 밖에 버젓이 주차를 해뒀다면 이건 치매 증상이다. 치매 증상에서 흔히 나타나는 ‘시공간 인지’ 기능 저하일 수 있기 때문. ‘TV를 켤 때 리모컨 어떤 버튼을 눌렀더라?’ 등 늘 하던 행동이 갑자기 헛갈린다면 이 역시도 시공간 인지 기능 저하일 수 있다. ',\n",
              " '건망증, 치매 전 단계일 수도 있어요!치매는 어느 날 갑자기 찾아오는 병이 아니다. 서서히 뇌 기능에 영향을 주는 혈관, 세포가 쇠퇴함에 따라 경미한 인지장애가 선행되는 것이 일반적이다. 치매 이전에 쉽게 찾아오는 뇌 기능 질환은 ‘경도인지장애’다. 경도인지장애는 치매의 전 단계에 해당하며, 동일 연령대에 비해 기억력 등 인지 기능이 감소한 상태를 일컫는다. ',\n",
              " '기억력에는 별다른 문제가 없더라도 다른 인지 기능이 약해졌거나, 성격이 갑자기 바뀌거나, 사고와 행동이 느려지는 증상도 경도인지장애를 알리는 신호일 수 있다. 따라서 관련 증상이 보이면 신경과 전문의를 찾아 정밀검사를 받아볼 것. 기억력을 젊게 유지하고 싶다면?노화로 인한 기억력 저하는 노력으로 어느 정도 향상할 수 있다. 책 『늙지 않는 뇌』를 쓴 미국 신경과학자, 리처드 레스탁(Richard Restak) 조지 워싱턴 의과대 교수가 제안하는, 기억력 강화 훈련을 따라해 보자. 하나,암산을 연습해요! 암산은 ‘작업 기억’을 향상하는 데 도움을 준다. ‘작업 기억’이란 정보를 단기적으로 기억하고 능동적으로 조작하는 과정을 말한다. 암산을 할 수 있는 숫자의 범위가 늘어날수록 기억 능력은 더욱 향상된다고 한다. 그러니 스스로 문제를 내거나, 초등학생용 수학 문제집을 이용해 틈틈이 암산 연습을 해보자. 둘, 장보기 목록, 보지 말고 외워보세요! 장 볼 때는 목록을 작성한 메모지를 꺼내 들기 마련. ',\n",
              " '기억력 강화 훈련을 위해서는 메모지를 보지 말고 목록을 외워 기억에 의존해 구매하는 방법을 써보길 바란다. 가능한 한 기억에 의존하려고 노력하고, 목록은 아주 필요할 시에만 참고하도록 훈련해 보자. 셋, 소설을 읽어요! 책 한 권이 하나의 이야기인 소설을 읽다 보면 배경부터 등장인물, 여러 사건 등 읽는 내내 여러 정보를 기억해야 한다. ',\n",
              " '이런 특성 때문에 실제 치매 초기 환자들은 소설을 완독하지 못하는 경우가 많다는 연구 결과도 있다고. 호흡이 긴 장편소설에 쉽게 손이 가지 않는다면 단편소설부터 읽는 습관을 들여볼 것. #부쩍 ‘건망증’이 심해졌다면 ‘체크’해보세요!<치매 자가 진단 체크리스트>□ 기억력에 문제가 있다고 느낀다. □ 10년 전보다 기억력이 저하되었다. □ 기억력이 동년의 다른 사람들에 비해 나쁘다고 생각한다. ',\n",
              " '□ 기억력 저하로 일상생활에 불편을 느낀다. □ 최근에 일어난 일을 기억하는 것이 어렵다. □ 며칠 전에 나눈 대화 내용을 기억하는 것이 어렵다. □ 며칠 전에 한 약속을 기억하기 어렵다. □ 친한 사람의 이름을 기억하기 어렵다. □ 물건 둔 곳을 기억하기 어렵다. □ 이전보다 물건을 자주 잃어버린다. □ 집 근처에서 길을 잃은 적이 있다. □ 가게에서 사려고 하는 두세 가지 물건의 이름을 기억하기 어렵다. □ 가스불이나 전깃불 끄는 것을 기억하기 어렵다. □ 자주 사용하는 전화번호(자신 혹은 자녀의 집)를 기억하기 어렵다. ☞ ‘중앙치매센터’ 홈페이지 바로 가기☎ 치매상담콜센터 1899-9988출처: 『나에게 힘이 되는 치매 가이드북』 (보건복지부·중앙치매센터 발행 )● 결과: 점수가 높을수록 주관적 기억감퇴가 심한 것을 의미한다. 6개 항목 이상에 ‘예’라고 답했다면, 가까운 보건소에 가서 치매 조기검진을 받아 볼 것!* 정부는 치매 조기검진 사업을 실시하고 있다. 보건소의 치매안심센터에서는 만 60세 이상 지역주민에게 치매선별검사를 무료로 제공한다. 검사 결과에 이상이 있을 시 치매 진단· 감별검사까지 지원하고 있으니 조금이라도 치매가 의심된다면, 반드시 보건소 방문을 권한다']"
            ]
          },
          "execution_count": 29,
          "metadata": {},
          "output_type": "execute_result"
        }
      ],
      "source": [
        "paragraph"
      ]
    },
    {
      "cell_type": "markdown",
      "source": [
        "## 추상적 요약"
      ],
      "metadata": {
        "id": "yKD7aWj-MG0x"
      },
      "id": "yKD7aWj-MG0x"
    },
    {
      "cell_type": "code",
      "source": [
        "import torch\n",
        "from transformers import PreTrainedTokenizerFast\n",
        "from transformers import BartForConditionalGeneration"
      ],
      "metadata": {
        "id": "JA6zhGNWTGWZ"
      },
      "id": "JA6zhGNWTGWZ",
      "execution_count": null,
      "outputs": []
    },
    {
      "cell_type": "code",
      "source": [
        "tokenizer = PreTrainedTokenizerFast.from_pretrained('gogamza/kobart-summarization')\n",
        "model = BartForConditionalGeneration.from_pretrained('gogamza/kobart-summarization')"
      ],
      "metadata": {
        "colab": {
          "base_uri": "https://localhost:8080/",
          "height": 268,
          "referenced_widgets": [
            "ca90d71397594004b54d15b83e0541d4",
            "35e42696ce834a1facce35d7aa760ef2",
            "d6e16d1371304b4a8dbe5f7effded305",
            "1cf773351b33424d8c07185f6dc69eef",
            "76f9d0860f684638a307bb50c89d39dc",
            "1638a3c12ce149bb8d5b200d2947b915",
            "be7dd8befb6d4f609175cb93e72767e1",
            "50fcee2fb38a4ee580df9e8d0ce5ddb7",
            "4a3536f4c97a49058c66c6d4187b171c",
            "eb09ad697f334d5180ebae34a4166c6d",
            "6602acbfc86e4c248dd384d49dfbd8b4",
            "4289e45370ef468ab493ea4b17c1b101",
            "575e66fa85624ddbbee20986de25be24",
            "b76d8c0dd47d4892ac509f5be05a8360",
            "b8e684dbc7044e4cad916818c5f8256a",
            "f980fe049eb745fea16843200a1d3873",
            "44248c3fcf3c4d6f9fa850016f19af20",
            "43bbd8677cd94cc6a5de600f063f2e7a",
            "a07bb72fba9d4ff08a6b77f967fe93c7",
            "a28141edfa4346d49549e2bc3e3dce42",
            "f817e1d2e2864f40ad21febd0a6c4500",
            "f6705c00fb2e479998d25ee668210f26",
            "9340212320ba4007bbe700a9397fe99c",
            "02857c642eb642fbb3fe6dc89f56b1b3",
            "b38e4479342548f6afd6f846c5b4622b",
            "dbca90c6f5c84ca79ddac74f447a24a1",
            "8b0ec05c51334a6a8bbf9def617cb46f",
            "957d96e464fc4b4499b1035f3b233fc1",
            "05067042c4a343b7ae7c8bc5e22dddaa",
            "15ac7592964c4077af8946c5c7ed94cb",
            "a773515d735743708e20f6b5dde0d0ca",
            "49ecc3f2b106430e85df7d40d5f9ea95",
            "5460a1927f3348d2962abfd818deef06",
            "e2041b6c2cbd4ed1b9e4e0e366f54fbc",
            "d883fa4412aa4a559503fb0f34889d34",
            "ddf5e9f25ed644e2a9e194a7f2537414",
            "a6c817ac2f3d41259812f3def203ba31",
            "2fc001d82692403493b6de422cdb6aae",
            "1f2527ded1774c1ab1489b79b11fb0d6",
            "4181806b49674494a4c7130cb922ab48",
            "069c9d26f6ec4c23b0f35a8a21733a23",
            "2fe5a19d14314d99b1565913787d74c0",
            "8c094bb388dc45a29aa76ae9cbe4bd66",
            "48bd329f21244479a3a56ae62f774e3c",
            "97dba5be200f4ea5b33a0d93bcf771a3",
            "d4ceb9f877c946e992279294eab0ade6",
            "5203388c84db4e1287dc664c9523bbe8",
            "0eb6d10bfd7841298998ffbb1d80e471",
            "e702694067c74c46a5dcd13793930aac",
            "7d2fe6bd1bee492281db06805ce72a9a",
            "26aa5556125b4060a30589ee3f8885f0",
            "258b8540ac0c46528a893ef04f4418d8",
            "082f1bb55abf403a92e88ac63a0ad13f",
            "1231554b0686490393c702ef77aa124d",
            "45d526e806204ca182cc6f96945602f8"
          ]
        },
        "id": "1zx6yGqPTGeX",
        "outputId": "f2a4e3fb-b199-4fb7-a849-429abc8cec7f"
      },
      "id": "1zx6yGqPTGeX",
      "execution_count": null,
      "outputs": [
        {
          "output_type": "display_data",
          "data": {
            "text/plain": [
              "Downloading (…)/main/tokenizer.json:   0%|          | 0.00/682k [00:00<?, ?B/s]"
            ],
            "application/vnd.jupyter.widget-view+json": {
              "version_major": 2,
              "version_minor": 0,
              "model_id": "ca90d71397594004b54d15b83e0541d4"
            }
          },
          "metadata": {}
        },
        {
          "output_type": "display_data",
          "data": {
            "text/plain": [
              "Downloading (…)in/added_tokens.json:   0%|          | 0.00/4.00 [00:00<?, ?B/s]"
            ],
            "application/vnd.jupyter.widget-view+json": {
              "version_major": 2,
              "version_minor": 0,
              "model_id": "4289e45370ef468ab493ea4b17c1b101"
            }
          },
          "metadata": {}
        },
        {
          "output_type": "display_data",
          "data": {
            "text/plain": [
              "Downloading (…)cial_tokens_map.json:   0%|          | 0.00/111 [00:00<?, ?B/s]"
            ],
            "application/vnd.jupyter.widget-view+json": {
              "version_major": 2,
              "version_minor": 0,
              "model_id": "9340212320ba4007bbe700a9397fe99c"
            }
          },
          "metadata": {}
        },
        {
          "output_type": "display_data",
          "data": {
            "text/plain": [
              "Downloading (…)lve/main/config.json:   0%|          | 0.00/1.18k [00:00<?, ?B/s]"
            ],
            "application/vnd.jupyter.widget-view+json": {
              "version_major": 2,
              "version_minor": 0,
              "model_id": "e2041b6c2cbd4ed1b9e4e0e366f54fbc"
            }
          },
          "metadata": {}
        },
        {
          "output_type": "stream",
          "name": "stderr",
          "text": [
            "You passed along `num_labels=3` with an incompatible id to label map: {'0': 'NEGATIVE', '1': 'POSITIVE'}. The number of labels wil be overwritten to 2.\n",
            "The tokenizer class you load from this checkpoint is not the same type as the class this function is called from. It may result in unexpected tokenization. \n",
            "The tokenizer class you load from this checkpoint is 'BartTokenizer'. \n",
            "The class this function is called from is 'PreTrainedTokenizerFast'.\n",
            "You passed along `num_labels=3` with an incompatible id to label map: {'0': 'NEGATIVE', '1': 'POSITIVE'}. The number of labels wil be overwritten to 2.\n"
          ]
        },
        {
          "output_type": "display_data",
          "data": {
            "text/plain": [
              "Downloading model.safetensors:   0%|          | 0.00/496M [00:00<?, ?B/s]"
            ],
            "application/vnd.jupyter.widget-view+json": {
              "version_major": 2,
              "version_minor": 0,
              "model_id": "97dba5be200f4ea5b33a0d93bcf771a3"
            }
          },
          "metadata": {}
        }
      ]
    },
    {
      "cell_type": "code",
      "source": [
        "def gen_summary(paragraph):\n",
        "  summary = \"\"\n",
        "  for text in paragraph:\n",
        "    raw_input_ids = tokenizer.encode(text)\n",
        "    input_ids = [tokenizer.bos_token_id] + raw_input_ids + [tokenizer.eos_token_id]\n",
        "    summary_ids = model.generate(torch.tensor([input_ids]), max_length=500, min_length=50, length_penalty=3.0, num_beams=1)\n",
        "    summary += tokenizer.decode(summary_ids.squeeze().tolist(), skip_special_tokens=True).strip() + \" \"\n",
        "  return summary"
      ],
      "metadata": {
        "id": "2MFh6gCETIXA"
      },
      "id": "2MFh6gCETIXA",
      "execution_count": null,
      "outputs": []
    },
    {
      "cell_type": "code",
      "source": [
        "summary = gen_summary(paragraph)"
      ],
      "metadata": {
        "id": "Swap0j5tTJuP"
      },
      "id": "Swap0j5tTJuP",
      "execution_count": null,
      "outputs": []
    },
    {
      "cell_type": "code",
      "source": [
        "summary"
      ],
      "metadata": {
        "colab": {
          "base_uri": "https://localhost:8080/",
          "height": 199
        },
        "id": "5bpbhBOKTJ6v",
        "outputId": "a28eade8-5340-4dce-f232-0837548bc032"
      },
      "id": "5bpbhBOKTJ6v",
      "execution_count": null,
      "outputs": [
        {
          "output_type": "execute_result",
          "data": {
            "text/plain": [
              "\"닮은 듯 다른 건망증과 치매 구별법을 알아보자. 뇌에 정보를 저장하는 기능에는 문제가 없지만 기억해 내는 속도가 느리거나 순간적으로 바로 기억하지 못하는 건망증의 가장 큰 특징은 중요하지 않은 사소한 일들은 잊지만, 중요한 약속이나 큰 사건들은 잊지 않고 기억할 수 있다는 것이다. 기억력이 나빠진 것조차 인지 못 하는 치매는 뇌에 비정상 단백질이 쌓이는 '퇴행성 뇌 질환', 뇌졸중이나 뇌출혈과 같은 '뇌혈관질환', 외상으로 인한 '뇌 손상' 또는 비타민B 등 신경계의 필수 영양소 결핍으로 인한 '뇌 기능 저하'가 원인이다. 기억력 저장 과정에서 기억력이 나빠진 것조차 인지하지 못하는 건망증과 달리, 치매는 힌트를 줘도 전혀 떠올리지 못하는 건망증 구별법 뇌가 기억을 저장하는 과정을 살펴보면 나의 이 ‘깜빡깜빡’하는 증상이 치매 증상인지 건망증 증상인지 어느 정도 구별된다. 치매는 뇌세포 손상으로 기억을 저장하는 과정이 망가져 문제가 생기는 경우로 전두엽 기능이 떨어지면서 인출에 장애가 생기는 현상인 반면, 건망증은 신경 조직 손상으로 인해 기억을 저장하는 과정 자체가 망가져 문제가 생기는 경우로 치매와 신경 조직 손상으로 인해 기억을 저장하는 과정 자체가 망가져 문제가 생기는 경우로 구분할 수 있다. 외출 준비를 하면서 여러 가지 일을 동시에 처리할 때 일어나는 건망증인지, 아니면 주차선 밖에 버젓이 주차를 해뒀다면 치매 증상이 될 수 있다.                                                                                                                                                                                                                           수년간 정기적으로 같은 날짜에 병원을 방문해 진료받고 있는데, 그 날짜를 착각하는 것 역시 치매 증상 중 하나인 지남력 장애일 가능성이 높으니 주의하자. 치매 이전에 전 단계에 해당하며, 동일 연령대에 비해 기억력 등 인지 기능이 감소한 상태를 일컫는 경도인지장애는 치매의 전 단계에 해당하며, 치매의 전 단계일 수도 있어 주의해야 한다. 기억력에는 별다른 문제가 없더라도 다른 인지 기능이 약해졌거나, 성격이 갑자기 바뀌거나, 사고와 행동이 느려지는 증상도 경도인지장애를 알리는 신호일 수 있으므로 신경과 전문의를 찾아 정밀검사를 받아볼 것. 기억력 강화 훈련을 위해서는 메모지를 보지 말고 목록을 외워 구매하는 방법을 써보길 바란다. 치매 초기 초기 환자들은 소설을 완독하지 못하는 경우가 많다는 연구 결과도 있어 단편소설부터 읽는 습관을 들여야 한다. 치매 상담점수가 높을수록 주관적 기억감퇴가 심한 것을 의미하므로 보건소의 치매안심센터에서 치매 조기검진을 받을 것을 권장한다\""
            ],
            "application/vnd.google.colaboratory.intrinsic+json": {
              "type": "string"
            }
          },
          "metadata": {},
          "execution_count": 12
        }
      ]
    },
    {
      "cell_type": "code",
      "source": [
        "# 최종 함수\n",
        "\n",
        "def generate_summary(text):\n",
        "  summary = summarize(text, ratio = 0.2)\n",
        "  paragraph = []\n",
        "  temp = 0\n",
        "  for i in summary.split('\\n'):\n",
        "      idx = text.find(i)\n",
        "      if idx-temp >= 100: # 한 문단은 최소 100자 이상 떨어져야함\n",
        "          paragraph.append(text[temp:idx])\n",
        "          temp = idx\n",
        "  paragraph.append(text[temp:]) # 문단 구성\n",
        "\n",
        "  summary = \"\"\n",
        "  for text in paragraph:\n",
        "    raw_input_ids = tokenizer.encode(text)\n",
        "    input_ids = [tokenizer.bos_token_id] + raw_input_ids + [tokenizer.eos_token_id]\n",
        "    summary_ids = model.generate(torch.tensor([input_ids]), max_length=500, min_length=50, length_penalty=3.0, num_beams=1)\n",
        "    summary += tokenizer.decode(summary_ids.squeeze().tolist(), skip_special_tokens=True).strip() + \" \"\n",
        "  return summary"
      ],
      "metadata": {
        "id": "Xj2Bw18iTMjt"
      },
      "id": "Xj2Bw18iTMjt",
      "execution_count": null,
      "outputs": []
    },
    {
      "cell_type": "markdown",
      "source": [
        "## 전체 텍스트에 대해 요약문이 어느 정도를 반영하는지 성능 측정"
      ],
      "metadata": {
        "id": "OYAestiJPpaE"
      },
      "id": "OYAestiJPpaE"
    },
    {
      "cell_type": "code",
      "source": [
        "import numpy as np\n",
        "import bert_score\n",
        "\n",
        "def bertScore(original, reference):\n",
        "  orig = [original]\n",
        "  ref = [reference]\n",
        "  P,R,F = bert_score.score(orig, ref, lang='ko', device='cpu')\n",
        "  return np.round((float(F[0])+float(P[0])+float(R[0]))/3, 3)"
      ],
      "metadata": {
        "id": "vNd2GbJmTRaY"
      },
      "id": "vNd2GbJmTRaY",
      "execution_count": null,
      "outputs": []
    },
    {
      "cell_type": "code",
      "source": [
        "bertScore(text, summary)"
      ],
      "metadata": {
        "colab": {
          "base_uri": "https://localhost:8080/",
          "height": 163,
          "referenced_widgets": [
            "4db7665505ac4c329ce9f7193e48ac66",
            "fce19002ccc34f19b6c76e80d9ecd226",
            "7f970e3bfdca41edade165e8d488f357",
            "962d02f5c6d4442ba04b9ab503854cae",
            "de14d1cca59544b9beaa838121e5562d",
            "1d8420b20eb749c28f33439d8cdb8a35",
            "4c536a5856254a08b7323d036bffcef0",
            "49c48b6ee4854b7eacc03e9ce3496652",
            "3e5083998b544807bf3f562b3946fab9",
            "812e300742734e9f9f13658b5cb2d441",
            "c38086db3b5d49148ee4a0b086dd16f0",
            "c168986475884e8fab8224173b7a2b64",
            "1cefb97372944973b5bd6bf9d48eb4a8",
            "6982166830424dfb997d2b28e7f9d188",
            "d84485bc023741d999697993805ae8ff",
            "d8835fea5d4f435ab43987438767ff2d",
            "088cd66d89a6494ba10e68ad056aca51",
            "99d299bdb60445fda96f824f2316f9f9",
            "347a6b72d8024f13972c2a36f8e61b8b",
            "b811a2838eb74f1e9a2ea1d58c82abec",
            "08d2cf4d77e04a81a082c5dadf7794e9",
            "20230abda681400cbf11a963d70246a8",
            "cf3f24b094384b6b889622b089dc2dfa",
            "b80d241201e44ad8a3317b6bd2b435dc",
            "8bc7d520b10e43b3a187913501e08382",
            "88b83872a81b40ce9694b591e7fc3cec",
            "5ac1381376c1426fa1ae5d1aedf6a2b2",
            "3acdca9764714789b0deee59ba7ebc71",
            "f0d4b3b2029f4b0e8363ff79df2ee5c1",
            "ccc4897e41864148987f58717792a463",
            "68a7105005744b30826eb7f298f6bf5d",
            "b1ef0741761f4a8fa17e49d88abf2f44",
            "4fdc841d64ac467094ad7d6971e1b9cc",
            "e81f9f8199db49818ba8b35863a6791b",
            "8b865f91b4c24068bbe8eabe9b190761",
            "f7dfc75c1c9d47d6a6e7135332ce17d4",
            "9c57e471b83746a6b1cfb28f73ae52fb",
            "3d96984b4f3e4aa5bfde67addbdd1428",
            "42f6ad108ff540c587c322055d1c7cb0",
            "d118b5f0a5f04c459f081f7bb9871906",
            "5c6949017d7142588de32cca21e52d53",
            "e0afa7ba03044eddb4d130f91d081650",
            "0162f294cf3b48c19c9cdba92825d8e8",
            "c621e81f162346af826bc4cb3a95bb1e"
          ]
        },
        "id": "TmrJpv8iTRkX",
        "outputId": "b7b462c4-6a1b-40cf-d0a0-1331796291ba"
      },
      "id": "TmrJpv8iTRkX",
      "execution_count": null,
      "outputs": [
        {
          "output_type": "display_data",
          "data": {
            "text/plain": [
              "Downloading (…)okenizer_config.json:   0%|          | 0.00/29.0 [00:00<?, ?B/s]"
            ],
            "application/vnd.jupyter.widget-view+json": {
              "version_major": 2,
              "version_minor": 0,
              "model_id": "4db7665505ac4c329ce9f7193e48ac66"
            }
          },
          "metadata": {}
        },
        {
          "output_type": "display_data",
          "data": {
            "text/plain": [
              "Downloading (…)lve/main/config.json:   0%|          | 0.00/625 [00:00<?, ?B/s]"
            ],
            "application/vnd.jupyter.widget-view+json": {
              "version_major": 2,
              "version_minor": 0,
              "model_id": "c168986475884e8fab8224173b7a2b64"
            }
          },
          "metadata": {}
        },
        {
          "output_type": "display_data",
          "data": {
            "text/plain": [
              "Downloading (…)solve/main/vocab.txt:   0%|          | 0.00/996k [00:00<?, ?B/s]"
            ],
            "application/vnd.jupyter.widget-view+json": {
              "version_major": 2,
              "version_minor": 0,
              "model_id": "cf3f24b094384b6b889622b089dc2dfa"
            }
          },
          "metadata": {}
        },
        {
          "output_type": "display_data",
          "data": {
            "text/plain": [
              "Downloading model.safetensors:   0%|          | 0.00/714M [00:00<?, ?B/s]"
            ],
            "application/vnd.jupyter.widget-view+json": {
              "version_major": 2,
              "version_minor": 0,
              "model_id": "e81f9f8199db49818ba8b35863a6791b"
            }
          },
          "metadata": {}
        },
        {
          "output_type": "execute_result",
          "data": {
            "text/plain": [
              "0.798"
            ]
          },
          "metadata": {},
          "execution_count": 16
        }
      ]
    },
    {
      "cell_type": "markdown",
      "source": [
        "- 요약문은 전체 텍스트의 79.8%를 포함하고 있음."
      ],
      "metadata": {
        "id": "gc_hssCBQNoi"
      },
      "id": "gc_hssCBQNoi"
    },
    {
      "cell_type": "markdown",
      "source": [
        "# Keyword 추출"
      ],
      "metadata": {
        "id": "CFvCHPWZvdi6"
      },
      "id": "CFvCHPWZvdi6"
    },
    {
      "cell_type": "code",
      "source": [
        "!pip install keybert"
      ],
      "metadata": {
        "colab": {
          "base_uri": "https://localhost:8080/"
        },
        "id": "g28Qd09uvqTQ",
        "outputId": "6f4ad10f-86ae-467e-d96a-bfdc63f898ab"
      },
      "id": "g28Qd09uvqTQ",
      "execution_count": 1,
      "outputs": [
        {
          "output_type": "stream",
          "name": "stdout",
          "text": [
            "Collecting keybert\n",
            "  Downloading keybert-0.7.0.tar.gz (21 kB)\n",
            "  Preparing metadata (setup.py) ... \u001b[?25l\u001b[?25hdone\n",
            "Collecting sentence-transformers>=0.3.8 (from keybert)\n",
            "  Downloading sentence-transformers-2.2.2.tar.gz (85 kB)\n",
            "\u001b[2K     \u001b[90m━━━━━━━━━━━━━━━━━━━━━━━━━━━━━━━━━━━━━━━━\u001b[0m \u001b[32m86.0/86.0 kB\u001b[0m \u001b[31m3.0 MB/s\u001b[0m eta \u001b[36m0:00:00\u001b[0m\n",
            "\u001b[?25h  Preparing metadata (setup.py) ... \u001b[?25l\u001b[?25hdone\n",
            "Requirement already satisfied: scikit-learn>=0.22.2 in /usr/local/lib/python3.10/dist-packages (from keybert) (1.2.2)\n",
            "Requirement already satisfied: numpy>=1.18.5 in /usr/local/lib/python3.10/dist-packages (from keybert) (1.23.5)\n",
            "Requirement already satisfied: rich>=10.4.0 in /usr/local/lib/python3.10/dist-packages (from keybert) (13.5.2)\n",
            "Requirement already satisfied: markdown-it-py>=2.2.0 in /usr/local/lib/python3.10/dist-packages (from rich>=10.4.0->keybert) (3.0.0)\n",
            "Requirement already satisfied: pygments<3.0.0,>=2.13.0 in /usr/local/lib/python3.10/dist-packages (from rich>=10.4.0->keybert) (2.16.1)\n",
            "Requirement already satisfied: scipy>=1.3.2 in /usr/local/lib/python3.10/dist-packages (from scikit-learn>=0.22.2->keybert) (1.10.1)\n",
            "Requirement already satisfied: joblib>=1.1.1 in /usr/local/lib/python3.10/dist-packages (from scikit-learn>=0.22.2->keybert) (1.3.2)\n",
            "Requirement already satisfied: threadpoolctl>=2.0.0 in /usr/local/lib/python3.10/dist-packages (from scikit-learn>=0.22.2->keybert) (3.2.0)\n",
            "Collecting transformers<5.0.0,>=4.6.0 (from sentence-transformers>=0.3.8->keybert)\n",
            "  Downloading transformers-4.31.0-py3-none-any.whl (7.4 MB)\n",
            "\u001b[2K     \u001b[90m━━━━━━━━━━━━━━━━━━━━━━━━━━━━━━━━━━━━━━━━\u001b[0m \u001b[32m7.4/7.4 MB\u001b[0m \u001b[31m14.8 MB/s\u001b[0m eta \u001b[36m0:00:00\u001b[0m\n",
            "\u001b[?25hRequirement already satisfied: tqdm in /usr/local/lib/python3.10/dist-packages (from sentence-transformers>=0.3.8->keybert) (4.66.1)\n",
            "Requirement already satisfied: torch>=1.6.0 in /usr/local/lib/python3.10/dist-packages (from sentence-transformers>=0.3.8->keybert) (2.0.1+cu118)\n",
            "Requirement already satisfied: torchvision in /usr/local/lib/python3.10/dist-packages (from sentence-transformers>=0.3.8->keybert) (0.15.2+cu118)\n",
            "Requirement already satisfied: nltk in /usr/local/lib/python3.10/dist-packages (from sentence-transformers>=0.3.8->keybert) (3.8.1)\n",
            "Collecting sentencepiece (from sentence-transformers>=0.3.8->keybert)\n",
            "  Downloading sentencepiece-0.1.99-cp310-cp310-manylinux_2_17_x86_64.manylinux2014_x86_64.whl (1.3 MB)\n",
            "\u001b[2K     \u001b[90m━━━━━━━━━━━━━━━━━━━━━━━━━━━━━━━━━━━━━━━━\u001b[0m \u001b[32m1.3/1.3 MB\u001b[0m \u001b[31m27.5 MB/s\u001b[0m eta \u001b[36m0:00:00\u001b[0m\n",
            "\u001b[?25hCollecting huggingface-hub>=0.4.0 (from sentence-transformers>=0.3.8->keybert)\n",
            "  Downloading huggingface_hub-0.16.4-py3-none-any.whl (268 kB)\n",
            "\u001b[2K     \u001b[90m━━━━━━━━━━━━━━━━━━━━━━━━━━━━━━━━━━━━━━\u001b[0m \u001b[32m268.8/268.8 kB\u001b[0m \u001b[31m28.2 MB/s\u001b[0m eta \u001b[36m0:00:00\u001b[0m\n",
            "\u001b[?25hRequirement already satisfied: filelock in /usr/local/lib/python3.10/dist-packages (from huggingface-hub>=0.4.0->sentence-transformers>=0.3.8->keybert) (3.12.2)\n",
            "Requirement already satisfied: fsspec in /usr/local/lib/python3.10/dist-packages (from huggingface-hub>=0.4.0->sentence-transformers>=0.3.8->keybert) (2023.6.0)\n",
            "Requirement already satisfied: requests in /usr/local/lib/python3.10/dist-packages (from huggingface-hub>=0.4.0->sentence-transformers>=0.3.8->keybert) (2.31.0)\n",
            "Requirement already satisfied: pyyaml>=5.1 in /usr/local/lib/python3.10/dist-packages (from huggingface-hub>=0.4.0->sentence-transformers>=0.3.8->keybert) (6.0.1)\n",
            "Requirement already satisfied: typing-extensions>=3.7.4.3 in /usr/local/lib/python3.10/dist-packages (from huggingface-hub>=0.4.0->sentence-transformers>=0.3.8->keybert) (4.7.1)\n",
            "Requirement already satisfied: packaging>=20.9 in /usr/local/lib/python3.10/dist-packages (from huggingface-hub>=0.4.0->sentence-transformers>=0.3.8->keybert) (23.1)\n",
            "Requirement already satisfied: mdurl~=0.1 in /usr/local/lib/python3.10/dist-packages (from markdown-it-py>=2.2.0->rich>=10.4.0->keybert) (0.1.2)\n",
            "Requirement already satisfied: sympy in /usr/local/lib/python3.10/dist-packages (from torch>=1.6.0->sentence-transformers>=0.3.8->keybert) (1.12)\n",
            "Requirement already satisfied: networkx in /usr/local/lib/python3.10/dist-packages (from torch>=1.6.0->sentence-transformers>=0.3.8->keybert) (3.1)\n",
            "Requirement already satisfied: jinja2 in /usr/local/lib/python3.10/dist-packages (from torch>=1.6.0->sentence-transformers>=0.3.8->keybert) (3.1.2)\n",
            "Requirement already satisfied: triton==2.0.0 in /usr/local/lib/python3.10/dist-packages (from torch>=1.6.0->sentence-transformers>=0.3.8->keybert) (2.0.0)\n",
            "Requirement already satisfied: cmake in /usr/local/lib/python3.10/dist-packages (from triton==2.0.0->torch>=1.6.0->sentence-transformers>=0.3.8->keybert) (3.27.2)\n",
            "Requirement already satisfied: lit in /usr/local/lib/python3.10/dist-packages (from triton==2.0.0->torch>=1.6.0->sentence-transformers>=0.3.8->keybert) (16.0.6)\n",
            "Requirement already satisfied: regex!=2019.12.17 in /usr/local/lib/python3.10/dist-packages (from transformers<5.0.0,>=4.6.0->sentence-transformers>=0.3.8->keybert) (2023.6.3)\n",
            "Collecting tokenizers!=0.11.3,<0.14,>=0.11.1 (from transformers<5.0.0,>=4.6.0->sentence-transformers>=0.3.8->keybert)\n",
            "  Downloading tokenizers-0.13.3-cp310-cp310-manylinux_2_17_x86_64.manylinux2014_x86_64.whl (7.8 MB)\n",
            "\u001b[2K     \u001b[90m━━━━━━━━━━━━━━━━━━━━━━━━━━━━━━━━━━━━━━━━\u001b[0m \u001b[32m7.8/7.8 MB\u001b[0m \u001b[31m38.0 MB/s\u001b[0m eta \u001b[36m0:00:00\u001b[0m\n",
            "\u001b[?25hCollecting safetensors>=0.3.1 (from transformers<5.0.0,>=4.6.0->sentence-transformers>=0.3.8->keybert)\n",
            "  Downloading safetensors-0.3.2-cp310-cp310-manylinux_2_17_x86_64.manylinux2014_x86_64.whl (1.3 MB)\n",
            "\u001b[2K     \u001b[90m━━━━━━━━━━━━━━━━━━━━━━━━━━━━━━━━━━━━━━━━\u001b[0m \u001b[32m1.3/1.3 MB\u001b[0m \u001b[31m34.8 MB/s\u001b[0m eta \u001b[36m0:00:00\u001b[0m\n",
            "\u001b[?25hRequirement already satisfied: click in /usr/local/lib/python3.10/dist-packages (from nltk->sentence-transformers>=0.3.8->keybert) (8.1.6)\n",
            "Requirement already satisfied: pillow!=8.3.*,>=5.3.0 in /usr/local/lib/python3.10/dist-packages (from torchvision->sentence-transformers>=0.3.8->keybert) (9.4.0)\n",
            "Requirement already satisfied: MarkupSafe>=2.0 in /usr/local/lib/python3.10/dist-packages (from jinja2->torch>=1.6.0->sentence-transformers>=0.3.8->keybert) (2.1.3)\n",
            "Requirement already satisfied: charset-normalizer<4,>=2 in /usr/local/lib/python3.10/dist-packages (from requests->huggingface-hub>=0.4.0->sentence-transformers>=0.3.8->keybert) (3.2.0)\n",
            "Requirement already satisfied: idna<4,>=2.5 in /usr/local/lib/python3.10/dist-packages (from requests->huggingface-hub>=0.4.0->sentence-transformers>=0.3.8->keybert) (3.4)\n",
            "Requirement already satisfied: urllib3<3,>=1.21.1 in /usr/local/lib/python3.10/dist-packages (from requests->huggingface-hub>=0.4.0->sentence-transformers>=0.3.8->keybert) (2.0.4)\n",
            "Requirement already satisfied: certifi>=2017.4.17 in /usr/local/lib/python3.10/dist-packages (from requests->huggingface-hub>=0.4.0->sentence-transformers>=0.3.8->keybert) (2023.7.22)\n",
            "Requirement already satisfied: mpmath>=0.19 in /usr/local/lib/python3.10/dist-packages (from sympy->torch>=1.6.0->sentence-transformers>=0.3.8->keybert) (1.3.0)\n",
            "Building wheels for collected packages: keybert, sentence-transformers\n",
            "  Building wheel for keybert (setup.py) ... \u001b[?25l\u001b[?25hdone\n",
            "  Created wheel for keybert: filename=keybert-0.7.0-py3-none-any.whl size=23767 sha256=44c3c024bce445743e0fd44dde56a6f72a71603816cd5a59bb7b2978c882cf69\n",
            "  Stored in directory: /root/.cache/pip/wheels/66/8d/e6/b0e2f8d883b0fd51819226f67ad9843e04913ce4a97241ff4b\n",
            "  Building wheel for sentence-transformers (setup.py) ... \u001b[?25l\u001b[?25hdone\n",
            "  Created wheel for sentence-transformers: filename=sentence_transformers-2.2.2-py3-none-any.whl size=125924 sha256=1f086e95e8888d8af1848e1dd12faad5bc4b149c2a52a4c31926b5f587a316d0\n",
            "  Stored in directory: /root/.cache/pip/wheels/62/f2/10/1e606fd5f02395388f74e7462910fe851042f97238cbbd902f\n",
            "Successfully built keybert sentence-transformers\n",
            "Installing collected packages: tokenizers, sentencepiece, safetensors, huggingface-hub, transformers, sentence-transformers, keybert\n",
            "Successfully installed huggingface-hub-0.16.4 keybert-0.7.0 safetensors-0.3.2 sentence-transformers-2.2.2 sentencepiece-0.1.99 tokenizers-0.13.3 transformers-4.31.0\n"
          ]
        }
      ]
    },
    {
      "cell_type": "code",
      "source": [
        "!pip install kiwipiepy"
      ],
      "metadata": {
        "colab": {
          "base_uri": "https://localhost:8080/",
          "height": 447
        },
        "id": "t1DS6P9Jvugz",
        "outputId": "3e8662bb-9983-40b9-b75e-5fce609c701f"
      },
      "id": "t1DS6P9Jvugz",
      "execution_count": 2,
      "outputs": [
        {
          "output_type": "stream",
          "name": "stdout",
          "text": [
            "Collecting kiwipiepy\n",
            "  Downloading kiwipiepy-0.15.2-cp310-cp310-manylinux_2_17_x86_64.manylinux2014_x86_64.whl (2.5 MB)\n",
            "\u001b[2K     \u001b[90m━━━━━━━━━━━━━━━━━━━━━━━━━━━━━━━━━━━━━━━━\u001b[0m \u001b[32m2.5/2.5 MB\u001b[0m \u001b[31m9.2 MB/s\u001b[0m eta \u001b[36m0:00:00\u001b[0m\n",
            "\u001b[?25hCollecting dataclasses (from kiwipiepy)\n",
            "  Downloading dataclasses-0.6-py3-none-any.whl (14 kB)\n",
            "Collecting kiwipiepy-model~=0.15 (from kiwipiepy)\n",
            "  Downloading kiwipiepy_model-0.15.0.tar.gz (30.5 MB)\n",
            "\u001b[2K     \u001b[90m━━━━━━━━━━━━━━━━━━━━━━━━━━━━━━━━━━━━━━━━\u001b[0m \u001b[32m30.5/30.5 MB\u001b[0m \u001b[31m44.1 MB/s\u001b[0m eta \u001b[36m0:00:00\u001b[0m\n",
            "\u001b[?25h  Preparing metadata (setup.py) ... \u001b[?25l\u001b[?25hdone\n",
            "Requirement already satisfied: numpy in /usr/local/lib/python3.10/dist-packages (from kiwipiepy) (1.23.5)\n",
            "Requirement already satisfied: tqdm in /usr/local/lib/python3.10/dist-packages (from kiwipiepy) (4.66.1)\n",
            "Building wheels for collected packages: kiwipiepy-model\n",
            "  Building wheel for kiwipiepy-model (setup.py) ... \u001b[?25l\u001b[?25hdone\n",
            "  Created wheel for kiwipiepy-model: filename=kiwipiepy_model-0.15.0-py3-none-any.whl size=30602628 sha256=473142c0433ae59fb7a429a63dea014b9fece388c35fad806a2d257bab0ed111\n",
            "  Stored in directory: /root/.cache/pip/wheels/f3/55/41/ca474338ece1bc4314b01445f64ff002d71e19df45575a16e2\n",
            "Successfully built kiwipiepy-model\n",
            "Installing collected packages: kiwipiepy-model, dataclasses, kiwipiepy\n",
            "Successfully installed dataclasses-0.6 kiwipiepy-0.15.2 kiwipiepy-model-0.15.0\n"
          ]
        },
        {
          "output_type": "display_data",
          "data": {
            "application/vnd.colab-display-data+json": {
              "pip_warning": {
                "packages": [
                  "dataclasses"
                ]
              }
            }
          },
          "metadata": {}
        }
      ]
    },
    {
      "cell_type": "code",
      "source": [
        "from keybert import KeyBERT\n",
        "from kiwipiepy import Kiwi\n",
        "from transformers import BertModel\n",
        "import re\n",
        "import pandas as pd"
      ],
      "metadata": {
        "id": "AdDX5kwfv2BM"
      },
      "id": "AdDX5kwfv2BM",
      "execution_count": 3,
      "outputs": []
    },
    {
      "cell_type": "code",
      "source": [
        "model = BertModel.from_pretrained('skt/kobert-base-v1')\n",
        "keybert_model = KeyBERT(model)\n",
        "keywords = keybert_model.extract_keywords(summary, keyphrase_ngram_range=(1, 1), stop_words=None, top_n=10)"
      ],
      "metadata": {
        "id": "8FP1AU4VwA6c"
      },
      "id": "8FP1AU4VwA6c",
      "execution_count": 26,
      "outputs": []
    },
    {
      "cell_type": "code",
      "source": [
        "## 상위 10개의 단어\n",
        "keywords"
      ],
      "metadata": {
        "colab": {
          "base_uri": "https://localhost:8080/"
        },
        "id": "h8RZ-BFnzeV5",
        "outputId": "4c4772ca-65dd-4d5f-cf01-04f49b1a7495"
      },
      "id": "h8RZ-BFnzeV5",
      "execution_count": 27,
      "outputs": [
        {
          "output_type": "execute_result",
          "data": {
            "text/plain": [
              "[('기억감퇴가', 0.6569),\n",
              " ('건망증과', 0.6293),\n",
              " ('건망증의', 0.6027),\n",
              " ('건망증', 0.5999),\n",
              " ('기억력', 0.5979),\n",
              " ('기억력이', 0.587),\n",
              " ('기억력에는', 0.5578),\n",
              " ('건망증은', 0.5428),\n",
              " ('뇌혈관질환', 0.4808),\n",
              " ('건망증인지', 0.465)]"
            ]
          },
          "metadata": {},
          "execution_count": 27
        }
      ]
    },
    {
      "cell_type": "markdown",
      "source": [
        "- keybert로 추출한 결과 명사+조사의 형태로 나오기 때문에, kiwi를 이용해 다시 키워드를 추출하였다.  \n",
        "- kiwi로 명사 형태만 추출한 뒤 명사만 적혀있는 text에서 keybert로 키워드 추출을 하였다."
      ],
      "metadata": {
        "id": "LmawVLaA0Q1x"
      },
      "id": "LmawVLaA0Q1x"
    },
    {
      "cell_type": "markdown",
      "source": [
        "## kiwi 이용하여 명사 형태만 추출"
      ],
      "metadata": {
        "id": "ix1yaEqNwgsY"
      },
      "id": "ix1yaEqNwgsY"
    },
    {
      "cell_type": "code",
      "source": [
        "kiwi = Kiwi()"
      ],
      "metadata": {
        "id": "ulEERi1WwVQX"
      },
      "id": "ulEERi1WwVQX",
      "execution_count": 28,
      "outputs": []
    },
    {
      "cell_type": "code",
      "source": [
        "## 명사 추출\n",
        "def extract_nouns(text):\n",
        "  _list = []\n",
        "  tmp = kiwi.analyze(text)\n",
        "\n",
        "  for token,pos,_,_ in tmp[0][0]:\n",
        "    if pos.startswith('N') or pos.startswith('SL') and len(token) != 1:\n",
        "      _list.append(token)\n",
        "\n",
        "  return _list"
      ],
      "metadata": {
        "id": "804M96Yuzlb0"
      },
      "id": "804M96Yuzlb0",
      "execution_count": 33,
      "outputs": []
    },
    {
      "cell_type": "code",
      "source": [
        "noun_list = extract_nouns(summary)"
      ],
      "metadata": {
        "id": "GvJl0I4P3Wp7"
      },
      "id": "GvJl0I4P3Wp7",
      "execution_count": 34,
      "outputs": []
    },
    {
      "cell_type": "code",
      "source": [
        "_text = ' '.join(noun_list)"
      ],
      "metadata": {
        "id": "o9dUnOGz3bvQ"
      },
      "id": "o9dUnOGz3bvQ",
      "execution_count": 36,
      "outputs": []
    },
    {
      "cell_type": "code",
      "source": [
        "_text"
      ],
      "metadata": {
        "colab": {
          "base_uri": "https://localhost:8080/",
          "height": 144
        },
        "id": "rUdXoiAF3oU0",
        "outputId": "626b8a00-b968-4c44-c9db-3c1917da7b55"
      },
      "id": "rUdXoiAF3oU0",
      "execution_count": 38,
      "outputs": [
        {
          "output_type": "execute_result",
          "data": {
            "text/plain": [
              "'듯 건망증 치매 구별 법 뇌 정보 저장 기능 문제 기억 속도 순간 기억 건망증 특징 중요 일 중요 약속 사건 기억 수 것 기억력 것 인지 치매 뇌 정상 단백질 퇴행 뇌 질환 뇌졸중 뇌출혈 뇌혈관 질환 외상 인 뇌 손상 비타민 등 신경 필수 영양소 결핍 인 뇌 기능 저하 원인 기억력 저장 과정 기억력 것 인지 건망증 치매 힌트 건망증 구별 법 뇌 기억 저장 과정 나 증상 치매 증상 건망증 증상 정도 구별 치매 뇌 세포 손상 기억 저장 과정 문제 경우 전두엽 기능 인출 장애 현상 반면 건망증 신경 조직 손상 기억 저장 과정 자체 문제 경우 치매 신경 조직 손상 기억 저장 과정 자체 문제 경우 구분 수 외출 준비 가지 일 동시 처리 때 건망증 주차 선 밖 주차 치매 증상 수 년 간 정기 날짜 병원 방문 진료 날짜 착각 것 치매 증상 중 하나 지남력 장애 가능 주의 치매 이전 단계 해당 동일 연령대 기억력 등 인지 기능 감소 상태 경도 인지 장애 치매 단계 해당 치매 단계 수 주의 기억력 문제 인지 기능 성격 사고 행동 증상 경도 장애 신호 수 신경과 전문의 정밀 검사 것 기억력 강화 훈련 메모지 목록 구매 방법 치매 초기 초기 환자 소설 완독 경우 연구 결과 단편 소설 습관 치매 상담 점수 주관 기억 감퇴 것 의미 보건소 치매 안심 센터 치매 조기 검진 것 권장'"
            ],
            "application/vnd.google.colaboratory.intrinsic+json": {
              "type": "string"
            }
          },
          "metadata": {},
          "execution_count": 38
        }
      ]
    },
    {
      "cell_type": "code",
      "source": [
        "keywords = keybert_model.extract_keywords(text, keyphrase_ngram_range=(1, 1), stop_words=None, top_n=20)\n",
        "keywords"
      ],
      "metadata": {
        "colab": {
          "base_uri": "https://localhost:8080/"
        },
        "id": "JvcjitDxyY5h",
        "outputId": "c3e65018-fed1-4e7d-9f63-9af8b94a0ab3"
      },
      "id": "JvcjitDxyY5h",
      "execution_count": 31,
      "outputs": [
        {
          "output_type": "execute_result",
          "data": {
            "text/plain": [
              "[('질환', 0.5582),\n",
              " ('결핍', 0.5532),\n",
              " ('장애', 0.5164),\n",
              " ('증상', 0.5062),\n",
              " ('외상', 0.4681),\n",
              " ('기억력', 0.4649),\n",
              " ('건망증', 0.4634),\n",
              " ('병원', 0.445),\n",
              " ('원인', 0.4349),\n",
              " ('메모지', 0.4304),\n",
              " ('신경과', 0.4253),\n",
              " ('뇌졸중', 0.3995),\n",
              " ('상태', 0.398),\n",
              " ('뇌출혈', 0.3966),\n",
              " ('환자', 0.3879),\n",
              " ('이전', 0.3802),\n",
              " ('특징', 0.3782),\n",
              " ('전문의', 0.3702),\n",
              " ('경우', 0.3686),\n",
              " ('기능', 0.3625)]"
            ]
          },
          "metadata": {},
          "execution_count": 31
        }
      ]
    },
    {
      "cell_type": "code",
      "source": [
        "# 한국어만 추출\n",
        "def extract_korean_elements(input_list):\n",
        "    korean_elements = []\n",
        "    for element in keywords:\n",
        "        if re.match(\"^[가-힣]+$\", element[0]):\n",
        "            korean_elements.append(element[0])\n",
        "    return korean_elements"
      ],
      "metadata": {
        "id": "Jh2R5N1jyEx7"
      },
      "id": "Jh2R5N1jyEx7",
      "execution_count": 21,
      "outputs": []
    },
    {
      "cell_type": "code",
      "source": [
        "key_list = extract_korean_elements(keywords)"
      ],
      "metadata": {
        "id": "eDMlP3ykzIwE"
      },
      "id": "eDMlP3ykzIwE",
      "execution_count": 22,
      "outputs": []
    },
    {
      "cell_type": "markdown",
      "source": [
        "## csv 파일 저장"
      ],
      "metadata": {
        "id": "aODM8aO4zNqk"
      },
      "id": "aODM8aO4zNqk"
    },
    {
      "cell_type": "code",
      "source": [
        "key_df = pd.DataFrame(key_list, columns=[\"key\"])"
      ],
      "metadata": {
        "id": "iD8Z8QCazJ0D"
      },
      "id": "iD8Z8QCazJ0D",
      "execution_count": null,
      "outputs": []
    },
    {
      "cell_type": "code",
      "source": [
        "key_df.to_csv('summary_keywords.csv',index=False)"
      ],
      "metadata": {
        "id": "c4IbwaJGzNBt"
      },
      "id": "c4IbwaJGzNBt",
      "execution_count": null,
      "outputs": []
    }
  ],
  "metadata": {
    "kernelspec": {
      "display_name": "Python 3",
      "language": "python",
      "name": "python3"
    },
    "language_info": {
      "codemirror_mode": {
        "name": "ipython",
        "version": 3
      },
      "file_extension": ".py",
      "mimetype": "text/x-python",
      "name": "python",
      "nbconvert_exporter": "python",
      "pygments_lexer": "ipython3",
      "version": "3.8.8"
    },
    "colab": {
      "provenance": []
    },
    "widgets": {
      "application/vnd.jupyter.widget-state+json": {
        "ca90d71397594004b54d15b83e0541d4": {
          "model_module": "@jupyter-widgets/controls",
          "model_name": "HBoxModel",
          "model_module_version": "1.5.0",
          "state": {
            "_dom_classes": [],
            "_model_module": "@jupyter-widgets/controls",
            "_model_module_version": "1.5.0",
            "_model_name": "HBoxModel",
            "_view_count": null,
            "_view_module": "@jupyter-widgets/controls",
            "_view_module_version": "1.5.0",
            "_view_name": "HBoxView",
            "box_style": "",
            "children": [
              "IPY_MODEL_35e42696ce834a1facce35d7aa760ef2",
              "IPY_MODEL_d6e16d1371304b4a8dbe5f7effded305",
              "IPY_MODEL_1cf773351b33424d8c07185f6dc69eef"
            ],
            "layout": "IPY_MODEL_76f9d0860f684638a307bb50c89d39dc"
          }
        },
        "35e42696ce834a1facce35d7aa760ef2": {
          "model_module": "@jupyter-widgets/controls",
          "model_name": "HTMLModel",
          "model_module_version": "1.5.0",
          "state": {
            "_dom_classes": [],
            "_model_module": "@jupyter-widgets/controls",
            "_model_module_version": "1.5.0",
            "_model_name": "HTMLModel",
            "_view_count": null,
            "_view_module": "@jupyter-widgets/controls",
            "_view_module_version": "1.5.0",
            "_view_name": "HTMLView",
            "description": "",
            "description_tooltip": null,
            "layout": "IPY_MODEL_1638a3c12ce149bb8d5b200d2947b915",
            "placeholder": "​",
            "style": "IPY_MODEL_be7dd8befb6d4f609175cb93e72767e1",
            "value": "Downloading (…)/main/tokenizer.json: 100%"
          }
        },
        "d6e16d1371304b4a8dbe5f7effded305": {
          "model_module": "@jupyter-widgets/controls",
          "model_name": "FloatProgressModel",
          "model_module_version": "1.5.0",
          "state": {
            "_dom_classes": [],
            "_model_module": "@jupyter-widgets/controls",
            "_model_module_version": "1.5.0",
            "_model_name": "FloatProgressModel",
            "_view_count": null,
            "_view_module": "@jupyter-widgets/controls",
            "_view_module_version": "1.5.0",
            "_view_name": "ProgressView",
            "bar_style": "success",
            "description": "",
            "description_tooltip": null,
            "layout": "IPY_MODEL_50fcee2fb38a4ee580df9e8d0ce5ddb7",
            "max": 682152,
            "min": 0,
            "orientation": "horizontal",
            "style": "IPY_MODEL_4a3536f4c97a49058c66c6d4187b171c",
            "value": 682152
          }
        },
        "1cf773351b33424d8c07185f6dc69eef": {
          "model_module": "@jupyter-widgets/controls",
          "model_name": "HTMLModel",
          "model_module_version": "1.5.0",
          "state": {
            "_dom_classes": [],
            "_model_module": "@jupyter-widgets/controls",
            "_model_module_version": "1.5.0",
            "_model_name": "HTMLModel",
            "_view_count": null,
            "_view_module": "@jupyter-widgets/controls",
            "_view_module_version": "1.5.0",
            "_view_name": "HTMLView",
            "description": "",
            "description_tooltip": null,
            "layout": "IPY_MODEL_eb09ad697f334d5180ebae34a4166c6d",
            "placeholder": "​",
            "style": "IPY_MODEL_6602acbfc86e4c248dd384d49dfbd8b4",
            "value": " 682k/682k [00:00&lt;00:00, 5.13MB/s]"
          }
        },
        "76f9d0860f684638a307bb50c89d39dc": {
          "model_module": "@jupyter-widgets/base",
          "model_name": "LayoutModel",
          "model_module_version": "1.2.0",
          "state": {
            "_model_module": "@jupyter-widgets/base",
            "_model_module_version": "1.2.0",
            "_model_name": "LayoutModel",
            "_view_count": null,
            "_view_module": "@jupyter-widgets/base",
            "_view_module_version": "1.2.0",
            "_view_name": "LayoutView",
            "align_content": null,
            "align_items": null,
            "align_self": null,
            "border": null,
            "bottom": null,
            "display": null,
            "flex": null,
            "flex_flow": null,
            "grid_area": null,
            "grid_auto_columns": null,
            "grid_auto_flow": null,
            "grid_auto_rows": null,
            "grid_column": null,
            "grid_gap": null,
            "grid_row": null,
            "grid_template_areas": null,
            "grid_template_columns": null,
            "grid_template_rows": null,
            "height": null,
            "justify_content": null,
            "justify_items": null,
            "left": null,
            "margin": null,
            "max_height": null,
            "max_width": null,
            "min_height": null,
            "min_width": null,
            "object_fit": null,
            "object_position": null,
            "order": null,
            "overflow": null,
            "overflow_x": null,
            "overflow_y": null,
            "padding": null,
            "right": null,
            "top": null,
            "visibility": null,
            "width": null
          }
        },
        "1638a3c12ce149bb8d5b200d2947b915": {
          "model_module": "@jupyter-widgets/base",
          "model_name": "LayoutModel",
          "model_module_version": "1.2.0",
          "state": {
            "_model_module": "@jupyter-widgets/base",
            "_model_module_version": "1.2.0",
            "_model_name": "LayoutModel",
            "_view_count": null,
            "_view_module": "@jupyter-widgets/base",
            "_view_module_version": "1.2.0",
            "_view_name": "LayoutView",
            "align_content": null,
            "align_items": null,
            "align_self": null,
            "border": null,
            "bottom": null,
            "display": null,
            "flex": null,
            "flex_flow": null,
            "grid_area": null,
            "grid_auto_columns": null,
            "grid_auto_flow": null,
            "grid_auto_rows": null,
            "grid_column": null,
            "grid_gap": null,
            "grid_row": null,
            "grid_template_areas": null,
            "grid_template_columns": null,
            "grid_template_rows": null,
            "height": null,
            "justify_content": null,
            "justify_items": null,
            "left": null,
            "margin": null,
            "max_height": null,
            "max_width": null,
            "min_height": null,
            "min_width": null,
            "object_fit": null,
            "object_position": null,
            "order": null,
            "overflow": null,
            "overflow_x": null,
            "overflow_y": null,
            "padding": null,
            "right": null,
            "top": null,
            "visibility": null,
            "width": null
          }
        },
        "be7dd8befb6d4f609175cb93e72767e1": {
          "model_module": "@jupyter-widgets/controls",
          "model_name": "DescriptionStyleModel",
          "model_module_version": "1.5.0",
          "state": {
            "_model_module": "@jupyter-widgets/controls",
            "_model_module_version": "1.5.0",
            "_model_name": "DescriptionStyleModel",
            "_view_count": null,
            "_view_module": "@jupyter-widgets/base",
            "_view_module_version": "1.2.0",
            "_view_name": "StyleView",
            "description_width": ""
          }
        },
        "50fcee2fb38a4ee580df9e8d0ce5ddb7": {
          "model_module": "@jupyter-widgets/base",
          "model_name": "LayoutModel",
          "model_module_version": "1.2.0",
          "state": {
            "_model_module": "@jupyter-widgets/base",
            "_model_module_version": "1.2.0",
            "_model_name": "LayoutModel",
            "_view_count": null,
            "_view_module": "@jupyter-widgets/base",
            "_view_module_version": "1.2.0",
            "_view_name": "LayoutView",
            "align_content": null,
            "align_items": null,
            "align_self": null,
            "border": null,
            "bottom": null,
            "display": null,
            "flex": null,
            "flex_flow": null,
            "grid_area": null,
            "grid_auto_columns": null,
            "grid_auto_flow": null,
            "grid_auto_rows": null,
            "grid_column": null,
            "grid_gap": null,
            "grid_row": null,
            "grid_template_areas": null,
            "grid_template_columns": null,
            "grid_template_rows": null,
            "height": null,
            "justify_content": null,
            "justify_items": null,
            "left": null,
            "margin": null,
            "max_height": null,
            "max_width": null,
            "min_height": null,
            "min_width": null,
            "object_fit": null,
            "object_position": null,
            "order": null,
            "overflow": null,
            "overflow_x": null,
            "overflow_y": null,
            "padding": null,
            "right": null,
            "top": null,
            "visibility": null,
            "width": null
          }
        },
        "4a3536f4c97a49058c66c6d4187b171c": {
          "model_module": "@jupyter-widgets/controls",
          "model_name": "ProgressStyleModel",
          "model_module_version": "1.5.0",
          "state": {
            "_model_module": "@jupyter-widgets/controls",
            "_model_module_version": "1.5.0",
            "_model_name": "ProgressStyleModel",
            "_view_count": null,
            "_view_module": "@jupyter-widgets/base",
            "_view_module_version": "1.2.0",
            "_view_name": "StyleView",
            "bar_color": null,
            "description_width": ""
          }
        },
        "eb09ad697f334d5180ebae34a4166c6d": {
          "model_module": "@jupyter-widgets/base",
          "model_name": "LayoutModel",
          "model_module_version": "1.2.0",
          "state": {
            "_model_module": "@jupyter-widgets/base",
            "_model_module_version": "1.2.0",
            "_model_name": "LayoutModel",
            "_view_count": null,
            "_view_module": "@jupyter-widgets/base",
            "_view_module_version": "1.2.0",
            "_view_name": "LayoutView",
            "align_content": null,
            "align_items": null,
            "align_self": null,
            "border": null,
            "bottom": null,
            "display": null,
            "flex": null,
            "flex_flow": null,
            "grid_area": null,
            "grid_auto_columns": null,
            "grid_auto_flow": null,
            "grid_auto_rows": null,
            "grid_column": null,
            "grid_gap": null,
            "grid_row": null,
            "grid_template_areas": null,
            "grid_template_columns": null,
            "grid_template_rows": null,
            "height": null,
            "justify_content": null,
            "justify_items": null,
            "left": null,
            "margin": null,
            "max_height": null,
            "max_width": null,
            "min_height": null,
            "min_width": null,
            "object_fit": null,
            "object_position": null,
            "order": null,
            "overflow": null,
            "overflow_x": null,
            "overflow_y": null,
            "padding": null,
            "right": null,
            "top": null,
            "visibility": null,
            "width": null
          }
        },
        "6602acbfc86e4c248dd384d49dfbd8b4": {
          "model_module": "@jupyter-widgets/controls",
          "model_name": "DescriptionStyleModel",
          "model_module_version": "1.5.0",
          "state": {
            "_model_module": "@jupyter-widgets/controls",
            "_model_module_version": "1.5.0",
            "_model_name": "DescriptionStyleModel",
            "_view_count": null,
            "_view_module": "@jupyter-widgets/base",
            "_view_module_version": "1.2.0",
            "_view_name": "StyleView",
            "description_width": ""
          }
        },
        "4289e45370ef468ab493ea4b17c1b101": {
          "model_module": "@jupyter-widgets/controls",
          "model_name": "HBoxModel",
          "model_module_version": "1.5.0",
          "state": {
            "_dom_classes": [],
            "_model_module": "@jupyter-widgets/controls",
            "_model_module_version": "1.5.0",
            "_model_name": "HBoxModel",
            "_view_count": null,
            "_view_module": "@jupyter-widgets/controls",
            "_view_module_version": "1.5.0",
            "_view_name": "HBoxView",
            "box_style": "",
            "children": [
              "IPY_MODEL_575e66fa85624ddbbee20986de25be24",
              "IPY_MODEL_b76d8c0dd47d4892ac509f5be05a8360",
              "IPY_MODEL_b8e684dbc7044e4cad916818c5f8256a"
            ],
            "layout": "IPY_MODEL_f980fe049eb745fea16843200a1d3873"
          }
        },
        "575e66fa85624ddbbee20986de25be24": {
          "model_module": "@jupyter-widgets/controls",
          "model_name": "HTMLModel",
          "model_module_version": "1.5.0",
          "state": {
            "_dom_classes": [],
            "_model_module": "@jupyter-widgets/controls",
            "_model_module_version": "1.5.0",
            "_model_name": "HTMLModel",
            "_view_count": null,
            "_view_module": "@jupyter-widgets/controls",
            "_view_module_version": "1.5.0",
            "_view_name": "HTMLView",
            "description": "",
            "description_tooltip": null,
            "layout": "IPY_MODEL_44248c3fcf3c4d6f9fa850016f19af20",
            "placeholder": "​",
            "style": "IPY_MODEL_43bbd8677cd94cc6a5de600f063f2e7a",
            "value": "Downloading (…)in/added_tokens.json: 100%"
          }
        },
        "b76d8c0dd47d4892ac509f5be05a8360": {
          "model_module": "@jupyter-widgets/controls",
          "model_name": "FloatProgressModel",
          "model_module_version": "1.5.0",
          "state": {
            "_dom_classes": [],
            "_model_module": "@jupyter-widgets/controls",
            "_model_module_version": "1.5.0",
            "_model_name": "FloatProgressModel",
            "_view_count": null,
            "_view_module": "@jupyter-widgets/controls",
            "_view_module_version": "1.5.0",
            "_view_name": "ProgressView",
            "bar_style": "success",
            "description": "",
            "description_tooltip": null,
            "layout": "IPY_MODEL_a07bb72fba9d4ff08a6b77f967fe93c7",
            "max": 4,
            "min": 0,
            "orientation": "horizontal",
            "style": "IPY_MODEL_a28141edfa4346d49549e2bc3e3dce42",
            "value": 4
          }
        },
        "b8e684dbc7044e4cad916818c5f8256a": {
          "model_module": "@jupyter-widgets/controls",
          "model_name": "HTMLModel",
          "model_module_version": "1.5.0",
          "state": {
            "_dom_classes": [],
            "_model_module": "@jupyter-widgets/controls",
            "_model_module_version": "1.5.0",
            "_model_name": "HTMLModel",
            "_view_count": null,
            "_view_module": "@jupyter-widgets/controls",
            "_view_module_version": "1.5.0",
            "_view_name": "HTMLView",
            "description": "",
            "description_tooltip": null,
            "layout": "IPY_MODEL_f817e1d2e2864f40ad21febd0a6c4500",
            "placeholder": "​",
            "style": "IPY_MODEL_f6705c00fb2e479998d25ee668210f26",
            "value": " 4.00/4.00 [00:00&lt;00:00, 187B/s]"
          }
        },
        "f980fe049eb745fea16843200a1d3873": {
          "model_module": "@jupyter-widgets/base",
          "model_name": "LayoutModel",
          "model_module_version": "1.2.0",
          "state": {
            "_model_module": "@jupyter-widgets/base",
            "_model_module_version": "1.2.0",
            "_model_name": "LayoutModel",
            "_view_count": null,
            "_view_module": "@jupyter-widgets/base",
            "_view_module_version": "1.2.0",
            "_view_name": "LayoutView",
            "align_content": null,
            "align_items": null,
            "align_self": null,
            "border": null,
            "bottom": null,
            "display": null,
            "flex": null,
            "flex_flow": null,
            "grid_area": null,
            "grid_auto_columns": null,
            "grid_auto_flow": null,
            "grid_auto_rows": null,
            "grid_column": null,
            "grid_gap": null,
            "grid_row": null,
            "grid_template_areas": null,
            "grid_template_columns": null,
            "grid_template_rows": null,
            "height": null,
            "justify_content": null,
            "justify_items": null,
            "left": null,
            "margin": null,
            "max_height": null,
            "max_width": null,
            "min_height": null,
            "min_width": null,
            "object_fit": null,
            "object_position": null,
            "order": null,
            "overflow": null,
            "overflow_x": null,
            "overflow_y": null,
            "padding": null,
            "right": null,
            "top": null,
            "visibility": null,
            "width": null
          }
        },
        "44248c3fcf3c4d6f9fa850016f19af20": {
          "model_module": "@jupyter-widgets/base",
          "model_name": "LayoutModel",
          "model_module_version": "1.2.0",
          "state": {
            "_model_module": "@jupyter-widgets/base",
            "_model_module_version": "1.2.0",
            "_model_name": "LayoutModel",
            "_view_count": null,
            "_view_module": "@jupyter-widgets/base",
            "_view_module_version": "1.2.0",
            "_view_name": "LayoutView",
            "align_content": null,
            "align_items": null,
            "align_self": null,
            "border": null,
            "bottom": null,
            "display": null,
            "flex": null,
            "flex_flow": null,
            "grid_area": null,
            "grid_auto_columns": null,
            "grid_auto_flow": null,
            "grid_auto_rows": null,
            "grid_column": null,
            "grid_gap": null,
            "grid_row": null,
            "grid_template_areas": null,
            "grid_template_columns": null,
            "grid_template_rows": null,
            "height": null,
            "justify_content": null,
            "justify_items": null,
            "left": null,
            "margin": null,
            "max_height": null,
            "max_width": null,
            "min_height": null,
            "min_width": null,
            "object_fit": null,
            "object_position": null,
            "order": null,
            "overflow": null,
            "overflow_x": null,
            "overflow_y": null,
            "padding": null,
            "right": null,
            "top": null,
            "visibility": null,
            "width": null
          }
        },
        "43bbd8677cd94cc6a5de600f063f2e7a": {
          "model_module": "@jupyter-widgets/controls",
          "model_name": "DescriptionStyleModel",
          "model_module_version": "1.5.0",
          "state": {
            "_model_module": "@jupyter-widgets/controls",
            "_model_module_version": "1.5.0",
            "_model_name": "DescriptionStyleModel",
            "_view_count": null,
            "_view_module": "@jupyter-widgets/base",
            "_view_module_version": "1.2.0",
            "_view_name": "StyleView",
            "description_width": ""
          }
        },
        "a07bb72fba9d4ff08a6b77f967fe93c7": {
          "model_module": "@jupyter-widgets/base",
          "model_name": "LayoutModel",
          "model_module_version": "1.2.0",
          "state": {
            "_model_module": "@jupyter-widgets/base",
            "_model_module_version": "1.2.0",
            "_model_name": "LayoutModel",
            "_view_count": null,
            "_view_module": "@jupyter-widgets/base",
            "_view_module_version": "1.2.0",
            "_view_name": "LayoutView",
            "align_content": null,
            "align_items": null,
            "align_self": null,
            "border": null,
            "bottom": null,
            "display": null,
            "flex": null,
            "flex_flow": null,
            "grid_area": null,
            "grid_auto_columns": null,
            "grid_auto_flow": null,
            "grid_auto_rows": null,
            "grid_column": null,
            "grid_gap": null,
            "grid_row": null,
            "grid_template_areas": null,
            "grid_template_columns": null,
            "grid_template_rows": null,
            "height": null,
            "justify_content": null,
            "justify_items": null,
            "left": null,
            "margin": null,
            "max_height": null,
            "max_width": null,
            "min_height": null,
            "min_width": null,
            "object_fit": null,
            "object_position": null,
            "order": null,
            "overflow": null,
            "overflow_x": null,
            "overflow_y": null,
            "padding": null,
            "right": null,
            "top": null,
            "visibility": null,
            "width": null
          }
        },
        "a28141edfa4346d49549e2bc3e3dce42": {
          "model_module": "@jupyter-widgets/controls",
          "model_name": "ProgressStyleModel",
          "model_module_version": "1.5.0",
          "state": {
            "_model_module": "@jupyter-widgets/controls",
            "_model_module_version": "1.5.0",
            "_model_name": "ProgressStyleModel",
            "_view_count": null,
            "_view_module": "@jupyter-widgets/base",
            "_view_module_version": "1.2.0",
            "_view_name": "StyleView",
            "bar_color": null,
            "description_width": ""
          }
        },
        "f817e1d2e2864f40ad21febd0a6c4500": {
          "model_module": "@jupyter-widgets/base",
          "model_name": "LayoutModel",
          "model_module_version": "1.2.0",
          "state": {
            "_model_module": "@jupyter-widgets/base",
            "_model_module_version": "1.2.0",
            "_model_name": "LayoutModel",
            "_view_count": null,
            "_view_module": "@jupyter-widgets/base",
            "_view_module_version": "1.2.0",
            "_view_name": "LayoutView",
            "align_content": null,
            "align_items": null,
            "align_self": null,
            "border": null,
            "bottom": null,
            "display": null,
            "flex": null,
            "flex_flow": null,
            "grid_area": null,
            "grid_auto_columns": null,
            "grid_auto_flow": null,
            "grid_auto_rows": null,
            "grid_column": null,
            "grid_gap": null,
            "grid_row": null,
            "grid_template_areas": null,
            "grid_template_columns": null,
            "grid_template_rows": null,
            "height": null,
            "justify_content": null,
            "justify_items": null,
            "left": null,
            "margin": null,
            "max_height": null,
            "max_width": null,
            "min_height": null,
            "min_width": null,
            "object_fit": null,
            "object_position": null,
            "order": null,
            "overflow": null,
            "overflow_x": null,
            "overflow_y": null,
            "padding": null,
            "right": null,
            "top": null,
            "visibility": null,
            "width": null
          }
        },
        "f6705c00fb2e479998d25ee668210f26": {
          "model_module": "@jupyter-widgets/controls",
          "model_name": "DescriptionStyleModel",
          "model_module_version": "1.5.0",
          "state": {
            "_model_module": "@jupyter-widgets/controls",
            "_model_module_version": "1.5.0",
            "_model_name": "DescriptionStyleModel",
            "_view_count": null,
            "_view_module": "@jupyter-widgets/base",
            "_view_module_version": "1.2.0",
            "_view_name": "StyleView",
            "description_width": ""
          }
        },
        "9340212320ba4007bbe700a9397fe99c": {
          "model_module": "@jupyter-widgets/controls",
          "model_name": "HBoxModel",
          "model_module_version": "1.5.0",
          "state": {
            "_dom_classes": [],
            "_model_module": "@jupyter-widgets/controls",
            "_model_module_version": "1.5.0",
            "_model_name": "HBoxModel",
            "_view_count": null,
            "_view_module": "@jupyter-widgets/controls",
            "_view_module_version": "1.5.0",
            "_view_name": "HBoxView",
            "box_style": "",
            "children": [
              "IPY_MODEL_02857c642eb642fbb3fe6dc89f56b1b3",
              "IPY_MODEL_b38e4479342548f6afd6f846c5b4622b",
              "IPY_MODEL_dbca90c6f5c84ca79ddac74f447a24a1"
            ],
            "layout": "IPY_MODEL_8b0ec05c51334a6a8bbf9def617cb46f"
          }
        },
        "02857c642eb642fbb3fe6dc89f56b1b3": {
          "model_module": "@jupyter-widgets/controls",
          "model_name": "HTMLModel",
          "model_module_version": "1.5.0",
          "state": {
            "_dom_classes": [],
            "_model_module": "@jupyter-widgets/controls",
            "_model_module_version": "1.5.0",
            "_model_name": "HTMLModel",
            "_view_count": null,
            "_view_module": "@jupyter-widgets/controls",
            "_view_module_version": "1.5.0",
            "_view_name": "HTMLView",
            "description": "",
            "description_tooltip": null,
            "layout": "IPY_MODEL_957d96e464fc4b4499b1035f3b233fc1",
            "placeholder": "​",
            "style": "IPY_MODEL_05067042c4a343b7ae7c8bc5e22dddaa",
            "value": "Downloading (…)cial_tokens_map.json: 100%"
          }
        },
        "b38e4479342548f6afd6f846c5b4622b": {
          "model_module": "@jupyter-widgets/controls",
          "model_name": "FloatProgressModel",
          "model_module_version": "1.5.0",
          "state": {
            "_dom_classes": [],
            "_model_module": "@jupyter-widgets/controls",
            "_model_module_version": "1.5.0",
            "_model_name": "FloatProgressModel",
            "_view_count": null,
            "_view_module": "@jupyter-widgets/controls",
            "_view_module_version": "1.5.0",
            "_view_name": "ProgressView",
            "bar_style": "success",
            "description": "",
            "description_tooltip": null,
            "layout": "IPY_MODEL_15ac7592964c4077af8946c5c7ed94cb",
            "max": 111,
            "min": 0,
            "orientation": "horizontal",
            "style": "IPY_MODEL_a773515d735743708e20f6b5dde0d0ca",
            "value": 111
          }
        },
        "dbca90c6f5c84ca79ddac74f447a24a1": {
          "model_module": "@jupyter-widgets/controls",
          "model_name": "HTMLModel",
          "model_module_version": "1.5.0",
          "state": {
            "_dom_classes": [],
            "_model_module": "@jupyter-widgets/controls",
            "_model_module_version": "1.5.0",
            "_model_name": "HTMLModel",
            "_view_count": null,
            "_view_module": "@jupyter-widgets/controls",
            "_view_module_version": "1.5.0",
            "_view_name": "HTMLView",
            "description": "",
            "description_tooltip": null,
            "layout": "IPY_MODEL_49ecc3f2b106430e85df7d40d5f9ea95",
            "placeholder": "​",
            "style": "IPY_MODEL_5460a1927f3348d2962abfd818deef06",
            "value": " 111/111 [00:00&lt;00:00, 2.76kB/s]"
          }
        },
        "8b0ec05c51334a6a8bbf9def617cb46f": {
          "model_module": "@jupyter-widgets/base",
          "model_name": "LayoutModel",
          "model_module_version": "1.2.0",
          "state": {
            "_model_module": "@jupyter-widgets/base",
            "_model_module_version": "1.2.0",
            "_model_name": "LayoutModel",
            "_view_count": null,
            "_view_module": "@jupyter-widgets/base",
            "_view_module_version": "1.2.0",
            "_view_name": "LayoutView",
            "align_content": null,
            "align_items": null,
            "align_self": null,
            "border": null,
            "bottom": null,
            "display": null,
            "flex": null,
            "flex_flow": null,
            "grid_area": null,
            "grid_auto_columns": null,
            "grid_auto_flow": null,
            "grid_auto_rows": null,
            "grid_column": null,
            "grid_gap": null,
            "grid_row": null,
            "grid_template_areas": null,
            "grid_template_columns": null,
            "grid_template_rows": null,
            "height": null,
            "justify_content": null,
            "justify_items": null,
            "left": null,
            "margin": null,
            "max_height": null,
            "max_width": null,
            "min_height": null,
            "min_width": null,
            "object_fit": null,
            "object_position": null,
            "order": null,
            "overflow": null,
            "overflow_x": null,
            "overflow_y": null,
            "padding": null,
            "right": null,
            "top": null,
            "visibility": null,
            "width": null
          }
        },
        "957d96e464fc4b4499b1035f3b233fc1": {
          "model_module": "@jupyter-widgets/base",
          "model_name": "LayoutModel",
          "model_module_version": "1.2.0",
          "state": {
            "_model_module": "@jupyter-widgets/base",
            "_model_module_version": "1.2.0",
            "_model_name": "LayoutModel",
            "_view_count": null,
            "_view_module": "@jupyter-widgets/base",
            "_view_module_version": "1.2.0",
            "_view_name": "LayoutView",
            "align_content": null,
            "align_items": null,
            "align_self": null,
            "border": null,
            "bottom": null,
            "display": null,
            "flex": null,
            "flex_flow": null,
            "grid_area": null,
            "grid_auto_columns": null,
            "grid_auto_flow": null,
            "grid_auto_rows": null,
            "grid_column": null,
            "grid_gap": null,
            "grid_row": null,
            "grid_template_areas": null,
            "grid_template_columns": null,
            "grid_template_rows": null,
            "height": null,
            "justify_content": null,
            "justify_items": null,
            "left": null,
            "margin": null,
            "max_height": null,
            "max_width": null,
            "min_height": null,
            "min_width": null,
            "object_fit": null,
            "object_position": null,
            "order": null,
            "overflow": null,
            "overflow_x": null,
            "overflow_y": null,
            "padding": null,
            "right": null,
            "top": null,
            "visibility": null,
            "width": null
          }
        },
        "05067042c4a343b7ae7c8bc5e22dddaa": {
          "model_module": "@jupyter-widgets/controls",
          "model_name": "DescriptionStyleModel",
          "model_module_version": "1.5.0",
          "state": {
            "_model_module": "@jupyter-widgets/controls",
            "_model_module_version": "1.5.0",
            "_model_name": "DescriptionStyleModel",
            "_view_count": null,
            "_view_module": "@jupyter-widgets/base",
            "_view_module_version": "1.2.0",
            "_view_name": "StyleView",
            "description_width": ""
          }
        },
        "15ac7592964c4077af8946c5c7ed94cb": {
          "model_module": "@jupyter-widgets/base",
          "model_name": "LayoutModel",
          "model_module_version": "1.2.0",
          "state": {
            "_model_module": "@jupyter-widgets/base",
            "_model_module_version": "1.2.0",
            "_model_name": "LayoutModel",
            "_view_count": null,
            "_view_module": "@jupyter-widgets/base",
            "_view_module_version": "1.2.0",
            "_view_name": "LayoutView",
            "align_content": null,
            "align_items": null,
            "align_self": null,
            "border": null,
            "bottom": null,
            "display": null,
            "flex": null,
            "flex_flow": null,
            "grid_area": null,
            "grid_auto_columns": null,
            "grid_auto_flow": null,
            "grid_auto_rows": null,
            "grid_column": null,
            "grid_gap": null,
            "grid_row": null,
            "grid_template_areas": null,
            "grid_template_columns": null,
            "grid_template_rows": null,
            "height": null,
            "justify_content": null,
            "justify_items": null,
            "left": null,
            "margin": null,
            "max_height": null,
            "max_width": null,
            "min_height": null,
            "min_width": null,
            "object_fit": null,
            "object_position": null,
            "order": null,
            "overflow": null,
            "overflow_x": null,
            "overflow_y": null,
            "padding": null,
            "right": null,
            "top": null,
            "visibility": null,
            "width": null
          }
        },
        "a773515d735743708e20f6b5dde0d0ca": {
          "model_module": "@jupyter-widgets/controls",
          "model_name": "ProgressStyleModel",
          "model_module_version": "1.5.0",
          "state": {
            "_model_module": "@jupyter-widgets/controls",
            "_model_module_version": "1.5.0",
            "_model_name": "ProgressStyleModel",
            "_view_count": null,
            "_view_module": "@jupyter-widgets/base",
            "_view_module_version": "1.2.0",
            "_view_name": "StyleView",
            "bar_color": null,
            "description_width": ""
          }
        },
        "49ecc3f2b106430e85df7d40d5f9ea95": {
          "model_module": "@jupyter-widgets/base",
          "model_name": "LayoutModel",
          "model_module_version": "1.2.0",
          "state": {
            "_model_module": "@jupyter-widgets/base",
            "_model_module_version": "1.2.0",
            "_model_name": "LayoutModel",
            "_view_count": null,
            "_view_module": "@jupyter-widgets/base",
            "_view_module_version": "1.2.0",
            "_view_name": "LayoutView",
            "align_content": null,
            "align_items": null,
            "align_self": null,
            "border": null,
            "bottom": null,
            "display": null,
            "flex": null,
            "flex_flow": null,
            "grid_area": null,
            "grid_auto_columns": null,
            "grid_auto_flow": null,
            "grid_auto_rows": null,
            "grid_column": null,
            "grid_gap": null,
            "grid_row": null,
            "grid_template_areas": null,
            "grid_template_columns": null,
            "grid_template_rows": null,
            "height": null,
            "justify_content": null,
            "justify_items": null,
            "left": null,
            "margin": null,
            "max_height": null,
            "max_width": null,
            "min_height": null,
            "min_width": null,
            "object_fit": null,
            "object_position": null,
            "order": null,
            "overflow": null,
            "overflow_x": null,
            "overflow_y": null,
            "padding": null,
            "right": null,
            "top": null,
            "visibility": null,
            "width": null
          }
        },
        "5460a1927f3348d2962abfd818deef06": {
          "model_module": "@jupyter-widgets/controls",
          "model_name": "DescriptionStyleModel",
          "model_module_version": "1.5.0",
          "state": {
            "_model_module": "@jupyter-widgets/controls",
            "_model_module_version": "1.5.0",
            "_model_name": "DescriptionStyleModel",
            "_view_count": null,
            "_view_module": "@jupyter-widgets/base",
            "_view_module_version": "1.2.0",
            "_view_name": "StyleView",
            "description_width": ""
          }
        },
        "e2041b6c2cbd4ed1b9e4e0e366f54fbc": {
          "model_module": "@jupyter-widgets/controls",
          "model_name": "HBoxModel",
          "model_module_version": "1.5.0",
          "state": {
            "_dom_classes": [],
            "_model_module": "@jupyter-widgets/controls",
            "_model_module_version": "1.5.0",
            "_model_name": "HBoxModel",
            "_view_count": null,
            "_view_module": "@jupyter-widgets/controls",
            "_view_module_version": "1.5.0",
            "_view_name": "HBoxView",
            "box_style": "",
            "children": [
              "IPY_MODEL_d883fa4412aa4a559503fb0f34889d34",
              "IPY_MODEL_ddf5e9f25ed644e2a9e194a7f2537414",
              "IPY_MODEL_a6c817ac2f3d41259812f3def203ba31"
            ],
            "layout": "IPY_MODEL_2fc001d82692403493b6de422cdb6aae"
          }
        },
        "d883fa4412aa4a559503fb0f34889d34": {
          "model_module": "@jupyter-widgets/controls",
          "model_name": "HTMLModel",
          "model_module_version": "1.5.0",
          "state": {
            "_dom_classes": [],
            "_model_module": "@jupyter-widgets/controls",
            "_model_module_version": "1.5.0",
            "_model_name": "HTMLModel",
            "_view_count": null,
            "_view_module": "@jupyter-widgets/controls",
            "_view_module_version": "1.5.0",
            "_view_name": "HTMLView",
            "description": "",
            "description_tooltip": null,
            "layout": "IPY_MODEL_1f2527ded1774c1ab1489b79b11fb0d6",
            "placeholder": "​",
            "style": "IPY_MODEL_4181806b49674494a4c7130cb922ab48",
            "value": "Downloading (…)lve/main/config.json: 100%"
          }
        },
        "ddf5e9f25ed644e2a9e194a7f2537414": {
          "model_module": "@jupyter-widgets/controls",
          "model_name": "FloatProgressModel",
          "model_module_version": "1.5.0",
          "state": {
            "_dom_classes": [],
            "_model_module": "@jupyter-widgets/controls",
            "_model_module_version": "1.5.0",
            "_model_name": "FloatProgressModel",
            "_view_count": null,
            "_view_module": "@jupyter-widgets/controls",
            "_view_module_version": "1.5.0",
            "_view_name": "ProgressView",
            "bar_style": "success",
            "description": "",
            "description_tooltip": null,
            "layout": "IPY_MODEL_069c9d26f6ec4c23b0f35a8a21733a23",
            "max": 1178,
            "min": 0,
            "orientation": "horizontal",
            "style": "IPY_MODEL_2fe5a19d14314d99b1565913787d74c0",
            "value": 1178
          }
        },
        "a6c817ac2f3d41259812f3def203ba31": {
          "model_module": "@jupyter-widgets/controls",
          "model_name": "HTMLModel",
          "model_module_version": "1.5.0",
          "state": {
            "_dom_classes": [],
            "_model_module": "@jupyter-widgets/controls",
            "_model_module_version": "1.5.0",
            "_model_name": "HTMLModel",
            "_view_count": null,
            "_view_module": "@jupyter-widgets/controls",
            "_view_module_version": "1.5.0",
            "_view_name": "HTMLView",
            "description": "",
            "description_tooltip": null,
            "layout": "IPY_MODEL_8c094bb388dc45a29aa76ae9cbe4bd66",
            "placeholder": "​",
            "style": "IPY_MODEL_48bd329f21244479a3a56ae62f774e3c",
            "value": " 1.18k/1.18k [00:00&lt;00:00, 29.5kB/s]"
          }
        },
        "2fc001d82692403493b6de422cdb6aae": {
          "model_module": "@jupyter-widgets/base",
          "model_name": "LayoutModel",
          "model_module_version": "1.2.0",
          "state": {
            "_model_module": "@jupyter-widgets/base",
            "_model_module_version": "1.2.0",
            "_model_name": "LayoutModel",
            "_view_count": null,
            "_view_module": "@jupyter-widgets/base",
            "_view_module_version": "1.2.0",
            "_view_name": "LayoutView",
            "align_content": null,
            "align_items": null,
            "align_self": null,
            "border": null,
            "bottom": null,
            "display": null,
            "flex": null,
            "flex_flow": null,
            "grid_area": null,
            "grid_auto_columns": null,
            "grid_auto_flow": null,
            "grid_auto_rows": null,
            "grid_column": null,
            "grid_gap": null,
            "grid_row": null,
            "grid_template_areas": null,
            "grid_template_columns": null,
            "grid_template_rows": null,
            "height": null,
            "justify_content": null,
            "justify_items": null,
            "left": null,
            "margin": null,
            "max_height": null,
            "max_width": null,
            "min_height": null,
            "min_width": null,
            "object_fit": null,
            "object_position": null,
            "order": null,
            "overflow": null,
            "overflow_x": null,
            "overflow_y": null,
            "padding": null,
            "right": null,
            "top": null,
            "visibility": null,
            "width": null
          }
        },
        "1f2527ded1774c1ab1489b79b11fb0d6": {
          "model_module": "@jupyter-widgets/base",
          "model_name": "LayoutModel",
          "model_module_version": "1.2.0",
          "state": {
            "_model_module": "@jupyter-widgets/base",
            "_model_module_version": "1.2.0",
            "_model_name": "LayoutModel",
            "_view_count": null,
            "_view_module": "@jupyter-widgets/base",
            "_view_module_version": "1.2.0",
            "_view_name": "LayoutView",
            "align_content": null,
            "align_items": null,
            "align_self": null,
            "border": null,
            "bottom": null,
            "display": null,
            "flex": null,
            "flex_flow": null,
            "grid_area": null,
            "grid_auto_columns": null,
            "grid_auto_flow": null,
            "grid_auto_rows": null,
            "grid_column": null,
            "grid_gap": null,
            "grid_row": null,
            "grid_template_areas": null,
            "grid_template_columns": null,
            "grid_template_rows": null,
            "height": null,
            "justify_content": null,
            "justify_items": null,
            "left": null,
            "margin": null,
            "max_height": null,
            "max_width": null,
            "min_height": null,
            "min_width": null,
            "object_fit": null,
            "object_position": null,
            "order": null,
            "overflow": null,
            "overflow_x": null,
            "overflow_y": null,
            "padding": null,
            "right": null,
            "top": null,
            "visibility": null,
            "width": null
          }
        },
        "4181806b49674494a4c7130cb922ab48": {
          "model_module": "@jupyter-widgets/controls",
          "model_name": "DescriptionStyleModel",
          "model_module_version": "1.5.0",
          "state": {
            "_model_module": "@jupyter-widgets/controls",
            "_model_module_version": "1.5.0",
            "_model_name": "DescriptionStyleModel",
            "_view_count": null,
            "_view_module": "@jupyter-widgets/base",
            "_view_module_version": "1.2.0",
            "_view_name": "StyleView",
            "description_width": ""
          }
        },
        "069c9d26f6ec4c23b0f35a8a21733a23": {
          "model_module": "@jupyter-widgets/base",
          "model_name": "LayoutModel",
          "model_module_version": "1.2.0",
          "state": {
            "_model_module": "@jupyter-widgets/base",
            "_model_module_version": "1.2.0",
            "_model_name": "LayoutModel",
            "_view_count": null,
            "_view_module": "@jupyter-widgets/base",
            "_view_module_version": "1.2.0",
            "_view_name": "LayoutView",
            "align_content": null,
            "align_items": null,
            "align_self": null,
            "border": null,
            "bottom": null,
            "display": null,
            "flex": null,
            "flex_flow": null,
            "grid_area": null,
            "grid_auto_columns": null,
            "grid_auto_flow": null,
            "grid_auto_rows": null,
            "grid_column": null,
            "grid_gap": null,
            "grid_row": null,
            "grid_template_areas": null,
            "grid_template_columns": null,
            "grid_template_rows": null,
            "height": null,
            "justify_content": null,
            "justify_items": null,
            "left": null,
            "margin": null,
            "max_height": null,
            "max_width": null,
            "min_height": null,
            "min_width": null,
            "object_fit": null,
            "object_position": null,
            "order": null,
            "overflow": null,
            "overflow_x": null,
            "overflow_y": null,
            "padding": null,
            "right": null,
            "top": null,
            "visibility": null,
            "width": null
          }
        },
        "2fe5a19d14314d99b1565913787d74c0": {
          "model_module": "@jupyter-widgets/controls",
          "model_name": "ProgressStyleModel",
          "model_module_version": "1.5.0",
          "state": {
            "_model_module": "@jupyter-widgets/controls",
            "_model_module_version": "1.5.0",
            "_model_name": "ProgressStyleModel",
            "_view_count": null,
            "_view_module": "@jupyter-widgets/base",
            "_view_module_version": "1.2.0",
            "_view_name": "StyleView",
            "bar_color": null,
            "description_width": ""
          }
        },
        "8c094bb388dc45a29aa76ae9cbe4bd66": {
          "model_module": "@jupyter-widgets/base",
          "model_name": "LayoutModel",
          "model_module_version": "1.2.0",
          "state": {
            "_model_module": "@jupyter-widgets/base",
            "_model_module_version": "1.2.0",
            "_model_name": "LayoutModel",
            "_view_count": null,
            "_view_module": "@jupyter-widgets/base",
            "_view_module_version": "1.2.0",
            "_view_name": "LayoutView",
            "align_content": null,
            "align_items": null,
            "align_self": null,
            "border": null,
            "bottom": null,
            "display": null,
            "flex": null,
            "flex_flow": null,
            "grid_area": null,
            "grid_auto_columns": null,
            "grid_auto_flow": null,
            "grid_auto_rows": null,
            "grid_column": null,
            "grid_gap": null,
            "grid_row": null,
            "grid_template_areas": null,
            "grid_template_columns": null,
            "grid_template_rows": null,
            "height": null,
            "justify_content": null,
            "justify_items": null,
            "left": null,
            "margin": null,
            "max_height": null,
            "max_width": null,
            "min_height": null,
            "min_width": null,
            "object_fit": null,
            "object_position": null,
            "order": null,
            "overflow": null,
            "overflow_x": null,
            "overflow_y": null,
            "padding": null,
            "right": null,
            "top": null,
            "visibility": null,
            "width": null
          }
        },
        "48bd329f21244479a3a56ae62f774e3c": {
          "model_module": "@jupyter-widgets/controls",
          "model_name": "DescriptionStyleModel",
          "model_module_version": "1.5.0",
          "state": {
            "_model_module": "@jupyter-widgets/controls",
            "_model_module_version": "1.5.0",
            "_model_name": "DescriptionStyleModel",
            "_view_count": null,
            "_view_module": "@jupyter-widgets/base",
            "_view_module_version": "1.2.0",
            "_view_name": "StyleView",
            "description_width": ""
          }
        },
        "97dba5be200f4ea5b33a0d93bcf771a3": {
          "model_module": "@jupyter-widgets/controls",
          "model_name": "HBoxModel",
          "model_module_version": "1.5.0",
          "state": {
            "_dom_classes": [],
            "_model_module": "@jupyter-widgets/controls",
            "_model_module_version": "1.5.0",
            "_model_name": "HBoxModel",
            "_view_count": null,
            "_view_module": "@jupyter-widgets/controls",
            "_view_module_version": "1.5.0",
            "_view_name": "HBoxView",
            "box_style": "",
            "children": [
              "IPY_MODEL_d4ceb9f877c946e992279294eab0ade6",
              "IPY_MODEL_5203388c84db4e1287dc664c9523bbe8",
              "IPY_MODEL_0eb6d10bfd7841298998ffbb1d80e471"
            ],
            "layout": "IPY_MODEL_e702694067c74c46a5dcd13793930aac"
          }
        },
        "d4ceb9f877c946e992279294eab0ade6": {
          "model_module": "@jupyter-widgets/controls",
          "model_name": "HTMLModel",
          "model_module_version": "1.5.0",
          "state": {
            "_dom_classes": [],
            "_model_module": "@jupyter-widgets/controls",
            "_model_module_version": "1.5.0",
            "_model_name": "HTMLModel",
            "_view_count": null,
            "_view_module": "@jupyter-widgets/controls",
            "_view_module_version": "1.5.0",
            "_view_name": "HTMLView",
            "description": "",
            "description_tooltip": null,
            "layout": "IPY_MODEL_7d2fe6bd1bee492281db06805ce72a9a",
            "placeholder": "​",
            "style": "IPY_MODEL_26aa5556125b4060a30589ee3f8885f0",
            "value": "Downloading model.safetensors: 100%"
          }
        },
        "5203388c84db4e1287dc664c9523bbe8": {
          "model_module": "@jupyter-widgets/controls",
          "model_name": "FloatProgressModel",
          "model_module_version": "1.5.0",
          "state": {
            "_dom_classes": [],
            "_model_module": "@jupyter-widgets/controls",
            "_model_module_version": "1.5.0",
            "_model_name": "FloatProgressModel",
            "_view_count": null,
            "_view_module": "@jupyter-widgets/controls",
            "_view_module_version": "1.5.0",
            "_view_name": "ProgressView",
            "bar_style": "success",
            "description": "",
            "description_tooltip": null,
            "layout": "IPY_MODEL_258b8540ac0c46528a893ef04f4418d8",
            "max": 495589764,
            "min": 0,
            "orientation": "horizontal",
            "style": "IPY_MODEL_082f1bb55abf403a92e88ac63a0ad13f",
            "value": 495589764
          }
        },
        "0eb6d10bfd7841298998ffbb1d80e471": {
          "model_module": "@jupyter-widgets/controls",
          "model_name": "HTMLModel",
          "model_module_version": "1.5.0",
          "state": {
            "_dom_classes": [],
            "_model_module": "@jupyter-widgets/controls",
            "_model_module_version": "1.5.0",
            "_model_name": "HTMLModel",
            "_view_count": null,
            "_view_module": "@jupyter-widgets/controls",
            "_view_module_version": "1.5.0",
            "_view_name": "HTMLView",
            "description": "",
            "description_tooltip": null,
            "layout": "IPY_MODEL_1231554b0686490393c702ef77aa124d",
            "placeholder": "​",
            "style": "IPY_MODEL_45d526e806204ca182cc6f96945602f8",
            "value": " 496M/496M [00:10&lt;00:00, 56.6MB/s]"
          }
        },
        "e702694067c74c46a5dcd13793930aac": {
          "model_module": "@jupyter-widgets/base",
          "model_name": "LayoutModel",
          "model_module_version": "1.2.0",
          "state": {
            "_model_module": "@jupyter-widgets/base",
            "_model_module_version": "1.2.0",
            "_model_name": "LayoutModel",
            "_view_count": null,
            "_view_module": "@jupyter-widgets/base",
            "_view_module_version": "1.2.0",
            "_view_name": "LayoutView",
            "align_content": null,
            "align_items": null,
            "align_self": null,
            "border": null,
            "bottom": null,
            "display": null,
            "flex": null,
            "flex_flow": null,
            "grid_area": null,
            "grid_auto_columns": null,
            "grid_auto_flow": null,
            "grid_auto_rows": null,
            "grid_column": null,
            "grid_gap": null,
            "grid_row": null,
            "grid_template_areas": null,
            "grid_template_columns": null,
            "grid_template_rows": null,
            "height": null,
            "justify_content": null,
            "justify_items": null,
            "left": null,
            "margin": null,
            "max_height": null,
            "max_width": null,
            "min_height": null,
            "min_width": null,
            "object_fit": null,
            "object_position": null,
            "order": null,
            "overflow": null,
            "overflow_x": null,
            "overflow_y": null,
            "padding": null,
            "right": null,
            "top": null,
            "visibility": null,
            "width": null
          }
        },
        "7d2fe6bd1bee492281db06805ce72a9a": {
          "model_module": "@jupyter-widgets/base",
          "model_name": "LayoutModel",
          "model_module_version": "1.2.0",
          "state": {
            "_model_module": "@jupyter-widgets/base",
            "_model_module_version": "1.2.0",
            "_model_name": "LayoutModel",
            "_view_count": null,
            "_view_module": "@jupyter-widgets/base",
            "_view_module_version": "1.2.0",
            "_view_name": "LayoutView",
            "align_content": null,
            "align_items": null,
            "align_self": null,
            "border": null,
            "bottom": null,
            "display": null,
            "flex": null,
            "flex_flow": null,
            "grid_area": null,
            "grid_auto_columns": null,
            "grid_auto_flow": null,
            "grid_auto_rows": null,
            "grid_column": null,
            "grid_gap": null,
            "grid_row": null,
            "grid_template_areas": null,
            "grid_template_columns": null,
            "grid_template_rows": null,
            "height": null,
            "justify_content": null,
            "justify_items": null,
            "left": null,
            "margin": null,
            "max_height": null,
            "max_width": null,
            "min_height": null,
            "min_width": null,
            "object_fit": null,
            "object_position": null,
            "order": null,
            "overflow": null,
            "overflow_x": null,
            "overflow_y": null,
            "padding": null,
            "right": null,
            "top": null,
            "visibility": null,
            "width": null
          }
        },
        "26aa5556125b4060a30589ee3f8885f0": {
          "model_module": "@jupyter-widgets/controls",
          "model_name": "DescriptionStyleModel",
          "model_module_version": "1.5.0",
          "state": {
            "_model_module": "@jupyter-widgets/controls",
            "_model_module_version": "1.5.0",
            "_model_name": "DescriptionStyleModel",
            "_view_count": null,
            "_view_module": "@jupyter-widgets/base",
            "_view_module_version": "1.2.0",
            "_view_name": "StyleView",
            "description_width": ""
          }
        },
        "258b8540ac0c46528a893ef04f4418d8": {
          "model_module": "@jupyter-widgets/base",
          "model_name": "LayoutModel",
          "model_module_version": "1.2.0",
          "state": {
            "_model_module": "@jupyter-widgets/base",
            "_model_module_version": "1.2.0",
            "_model_name": "LayoutModel",
            "_view_count": null,
            "_view_module": "@jupyter-widgets/base",
            "_view_module_version": "1.2.0",
            "_view_name": "LayoutView",
            "align_content": null,
            "align_items": null,
            "align_self": null,
            "border": null,
            "bottom": null,
            "display": null,
            "flex": null,
            "flex_flow": null,
            "grid_area": null,
            "grid_auto_columns": null,
            "grid_auto_flow": null,
            "grid_auto_rows": null,
            "grid_column": null,
            "grid_gap": null,
            "grid_row": null,
            "grid_template_areas": null,
            "grid_template_columns": null,
            "grid_template_rows": null,
            "height": null,
            "justify_content": null,
            "justify_items": null,
            "left": null,
            "margin": null,
            "max_height": null,
            "max_width": null,
            "min_height": null,
            "min_width": null,
            "object_fit": null,
            "object_position": null,
            "order": null,
            "overflow": null,
            "overflow_x": null,
            "overflow_y": null,
            "padding": null,
            "right": null,
            "top": null,
            "visibility": null,
            "width": null
          }
        },
        "082f1bb55abf403a92e88ac63a0ad13f": {
          "model_module": "@jupyter-widgets/controls",
          "model_name": "ProgressStyleModel",
          "model_module_version": "1.5.0",
          "state": {
            "_model_module": "@jupyter-widgets/controls",
            "_model_module_version": "1.5.0",
            "_model_name": "ProgressStyleModel",
            "_view_count": null,
            "_view_module": "@jupyter-widgets/base",
            "_view_module_version": "1.2.0",
            "_view_name": "StyleView",
            "bar_color": null,
            "description_width": ""
          }
        },
        "1231554b0686490393c702ef77aa124d": {
          "model_module": "@jupyter-widgets/base",
          "model_name": "LayoutModel",
          "model_module_version": "1.2.0",
          "state": {
            "_model_module": "@jupyter-widgets/base",
            "_model_module_version": "1.2.0",
            "_model_name": "LayoutModel",
            "_view_count": null,
            "_view_module": "@jupyter-widgets/base",
            "_view_module_version": "1.2.0",
            "_view_name": "LayoutView",
            "align_content": null,
            "align_items": null,
            "align_self": null,
            "border": null,
            "bottom": null,
            "display": null,
            "flex": null,
            "flex_flow": null,
            "grid_area": null,
            "grid_auto_columns": null,
            "grid_auto_flow": null,
            "grid_auto_rows": null,
            "grid_column": null,
            "grid_gap": null,
            "grid_row": null,
            "grid_template_areas": null,
            "grid_template_columns": null,
            "grid_template_rows": null,
            "height": null,
            "justify_content": null,
            "justify_items": null,
            "left": null,
            "margin": null,
            "max_height": null,
            "max_width": null,
            "min_height": null,
            "min_width": null,
            "object_fit": null,
            "object_position": null,
            "order": null,
            "overflow": null,
            "overflow_x": null,
            "overflow_y": null,
            "padding": null,
            "right": null,
            "top": null,
            "visibility": null,
            "width": null
          }
        },
        "45d526e806204ca182cc6f96945602f8": {
          "model_module": "@jupyter-widgets/controls",
          "model_name": "DescriptionStyleModel",
          "model_module_version": "1.5.0",
          "state": {
            "_model_module": "@jupyter-widgets/controls",
            "_model_module_version": "1.5.0",
            "_model_name": "DescriptionStyleModel",
            "_view_count": null,
            "_view_module": "@jupyter-widgets/base",
            "_view_module_version": "1.2.0",
            "_view_name": "StyleView",
            "description_width": ""
          }
        },
        "4db7665505ac4c329ce9f7193e48ac66": {
          "model_module": "@jupyter-widgets/controls",
          "model_name": "HBoxModel",
          "model_module_version": "1.5.0",
          "state": {
            "_dom_classes": [],
            "_model_module": "@jupyter-widgets/controls",
            "_model_module_version": "1.5.0",
            "_model_name": "HBoxModel",
            "_view_count": null,
            "_view_module": "@jupyter-widgets/controls",
            "_view_module_version": "1.5.0",
            "_view_name": "HBoxView",
            "box_style": "",
            "children": [
              "IPY_MODEL_fce19002ccc34f19b6c76e80d9ecd226",
              "IPY_MODEL_7f970e3bfdca41edade165e8d488f357",
              "IPY_MODEL_962d02f5c6d4442ba04b9ab503854cae"
            ],
            "layout": "IPY_MODEL_de14d1cca59544b9beaa838121e5562d"
          }
        },
        "fce19002ccc34f19b6c76e80d9ecd226": {
          "model_module": "@jupyter-widgets/controls",
          "model_name": "HTMLModel",
          "model_module_version": "1.5.0",
          "state": {
            "_dom_classes": [],
            "_model_module": "@jupyter-widgets/controls",
            "_model_module_version": "1.5.0",
            "_model_name": "HTMLModel",
            "_view_count": null,
            "_view_module": "@jupyter-widgets/controls",
            "_view_module_version": "1.5.0",
            "_view_name": "HTMLView",
            "description": "",
            "description_tooltip": null,
            "layout": "IPY_MODEL_1d8420b20eb749c28f33439d8cdb8a35",
            "placeholder": "​",
            "style": "IPY_MODEL_4c536a5856254a08b7323d036bffcef0",
            "value": "Downloading (…)okenizer_config.json: 100%"
          }
        },
        "7f970e3bfdca41edade165e8d488f357": {
          "model_module": "@jupyter-widgets/controls",
          "model_name": "FloatProgressModel",
          "model_module_version": "1.5.0",
          "state": {
            "_dom_classes": [],
            "_model_module": "@jupyter-widgets/controls",
            "_model_module_version": "1.5.0",
            "_model_name": "FloatProgressModel",
            "_view_count": null,
            "_view_module": "@jupyter-widgets/controls",
            "_view_module_version": "1.5.0",
            "_view_name": "ProgressView",
            "bar_style": "success",
            "description": "",
            "description_tooltip": null,
            "layout": "IPY_MODEL_49c48b6ee4854b7eacc03e9ce3496652",
            "max": 29,
            "min": 0,
            "orientation": "horizontal",
            "style": "IPY_MODEL_3e5083998b544807bf3f562b3946fab9",
            "value": 29
          }
        },
        "962d02f5c6d4442ba04b9ab503854cae": {
          "model_module": "@jupyter-widgets/controls",
          "model_name": "HTMLModel",
          "model_module_version": "1.5.0",
          "state": {
            "_dom_classes": [],
            "_model_module": "@jupyter-widgets/controls",
            "_model_module_version": "1.5.0",
            "_model_name": "HTMLModel",
            "_view_count": null,
            "_view_module": "@jupyter-widgets/controls",
            "_view_module_version": "1.5.0",
            "_view_name": "HTMLView",
            "description": "",
            "description_tooltip": null,
            "layout": "IPY_MODEL_812e300742734e9f9f13658b5cb2d441",
            "placeholder": "​",
            "style": "IPY_MODEL_c38086db3b5d49148ee4a0b086dd16f0",
            "value": " 29.0/29.0 [00:00&lt;00:00, 136B/s]"
          }
        },
        "de14d1cca59544b9beaa838121e5562d": {
          "model_module": "@jupyter-widgets/base",
          "model_name": "LayoutModel",
          "model_module_version": "1.2.0",
          "state": {
            "_model_module": "@jupyter-widgets/base",
            "_model_module_version": "1.2.0",
            "_model_name": "LayoutModel",
            "_view_count": null,
            "_view_module": "@jupyter-widgets/base",
            "_view_module_version": "1.2.0",
            "_view_name": "LayoutView",
            "align_content": null,
            "align_items": null,
            "align_self": null,
            "border": null,
            "bottom": null,
            "display": null,
            "flex": null,
            "flex_flow": null,
            "grid_area": null,
            "grid_auto_columns": null,
            "grid_auto_flow": null,
            "grid_auto_rows": null,
            "grid_column": null,
            "grid_gap": null,
            "grid_row": null,
            "grid_template_areas": null,
            "grid_template_columns": null,
            "grid_template_rows": null,
            "height": null,
            "justify_content": null,
            "justify_items": null,
            "left": null,
            "margin": null,
            "max_height": null,
            "max_width": null,
            "min_height": null,
            "min_width": null,
            "object_fit": null,
            "object_position": null,
            "order": null,
            "overflow": null,
            "overflow_x": null,
            "overflow_y": null,
            "padding": null,
            "right": null,
            "top": null,
            "visibility": null,
            "width": null
          }
        },
        "1d8420b20eb749c28f33439d8cdb8a35": {
          "model_module": "@jupyter-widgets/base",
          "model_name": "LayoutModel",
          "model_module_version": "1.2.0",
          "state": {
            "_model_module": "@jupyter-widgets/base",
            "_model_module_version": "1.2.0",
            "_model_name": "LayoutModel",
            "_view_count": null,
            "_view_module": "@jupyter-widgets/base",
            "_view_module_version": "1.2.0",
            "_view_name": "LayoutView",
            "align_content": null,
            "align_items": null,
            "align_self": null,
            "border": null,
            "bottom": null,
            "display": null,
            "flex": null,
            "flex_flow": null,
            "grid_area": null,
            "grid_auto_columns": null,
            "grid_auto_flow": null,
            "grid_auto_rows": null,
            "grid_column": null,
            "grid_gap": null,
            "grid_row": null,
            "grid_template_areas": null,
            "grid_template_columns": null,
            "grid_template_rows": null,
            "height": null,
            "justify_content": null,
            "justify_items": null,
            "left": null,
            "margin": null,
            "max_height": null,
            "max_width": null,
            "min_height": null,
            "min_width": null,
            "object_fit": null,
            "object_position": null,
            "order": null,
            "overflow": null,
            "overflow_x": null,
            "overflow_y": null,
            "padding": null,
            "right": null,
            "top": null,
            "visibility": null,
            "width": null
          }
        },
        "4c536a5856254a08b7323d036bffcef0": {
          "model_module": "@jupyter-widgets/controls",
          "model_name": "DescriptionStyleModel",
          "model_module_version": "1.5.0",
          "state": {
            "_model_module": "@jupyter-widgets/controls",
            "_model_module_version": "1.5.0",
            "_model_name": "DescriptionStyleModel",
            "_view_count": null,
            "_view_module": "@jupyter-widgets/base",
            "_view_module_version": "1.2.0",
            "_view_name": "StyleView",
            "description_width": ""
          }
        },
        "49c48b6ee4854b7eacc03e9ce3496652": {
          "model_module": "@jupyter-widgets/base",
          "model_name": "LayoutModel",
          "model_module_version": "1.2.0",
          "state": {
            "_model_module": "@jupyter-widgets/base",
            "_model_module_version": "1.2.0",
            "_model_name": "LayoutModel",
            "_view_count": null,
            "_view_module": "@jupyter-widgets/base",
            "_view_module_version": "1.2.0",
            "_view_name": "LayoutView",
            "align_content": null,
            "align_items": null,
            "align_self": null,
            "border": null,
            "bottom": null,
            "display": null,
            "flex": null,
            "flex_flow": null,
            "grid_area": null,
            "grid_auto_columns": null,
            "grid_auto_flow": null,
            "grid_auto_rows": null,
            "grid_column": null,
            "grid_gap": null,
            "grid_row": null,
            "grid_template_areas": null,
            "grid_template_columns": null,
            "grid_template_rows": null,
            "height": null,
            "justify_content": null,
            "justify_items": null,
            "left": null,
            "margin": null,
            "max_height": null,
            "max_width": null,
            "min_height": null,
            "min_width": null,
            "object_fit": null,
            "object_position": null,
            "order": null,
            "overflow": null,
            "overflow_x": null,
            "overflow_y": null,
            "padding": null,
            "right": null,
            "top": null,
            "visibility": null,
            "width": null
          }
        },
        "3e5083998b544807bf3f562b3946fab9": {
          "model_module": "@jupyter-widgets/controls",
          "model_name": "ProgressStyleModel",
          "model_module_version": "1.5.0",
          "state": {
            "_model_module": "@jupyter-widgets/controls",
            "_model_module_version": "1.5.0",
            "_model_name": "ProgressStyleModel",
            "_view_count": null,
            "_view_module": "@jupyter-widgets/base",
            "_view_module_version": "1.2.0",
            "_view_name": "StyleView",
            "bar_color": null,
            "description_width": ""
          }
        },
        "812e300742734e9f9f13658b5cb2d441": {
          "model_module": "@jupyter-widgets/base",
          "model_name": "LayoutModel",
          "model_module_version": "1.2.0",
          "state": {
            "_model_module": "@jupyter-widgets/base",
            "_model_module_version": "1.2.0",
            "_model_name": "LayoutModel",
            "_view_count": null,
            "_view_module": "@jupyter-widgets/base",
            "_view_module_version": "1.2.0",
            "_view_name": "LayoutView",
            "align_content": null,
            "align_items": null,
            "align_self": null,
            "border": null,
            "bottom": null,
            "display": null,
            "flex": null,
            "flex_flow": null,
            "grid_area": null,
            "grid_auto_columns": null,
            "grid_auto_flow": null,
            "grid_auto_rows": null,
            "grid_column": null,
            "grid_gap": null,
            "grid_row": null,
            "grid_template_areas": null,
            "grid_template_columns": null,
            "grid_template_rows": null,
            "height": null,
            "justify_content": null,
            "justify_items": null,
            "left": null,
            "margin": null,
            "max_height": null,
            "max_width": null,
            "min_height": null,
            "min_width": null,
            "object_fit": null,
            "object_position": null,
            "order": null,
            "overflow": null,
            "overflow_x": null,
            "overflow_y": null,
            "padding": null,
            "right": null,
            "top": null,
            "visibility": null,
            "width": null
          }
        },
        "c38086db3b5d49148ee4a0b086dd16f0": {
          "model_module": "@jupyter-widgets/controls",
          "model_name": "DescriptionStyleModel",
          "model_module_version": "1.5.0",
          "state": {
            "_model_module": "@jupyter-widgets/controls",
            "_model_module_version": "1.5.0",
            "_model_name": "DescriptionStyleModel",
            "_view_count": null,
            "_view_module": "@jupyter-widgets/base",
            "_view_module_version": "1.2.0",
            "_view_name": "StyleView",
            "description_width": ""
          }
        },
        "c168986475884e8fab8224173b7a2b64": {
          "model_module": "@jupyter-widgets/controls",
          "model_name": "HBoxModel",
          "model_module_version": "1.5.0",
          "state": {
            "_dom_classes": [],
            "_model_module": "@jupyter-widgets/controls",
            "_model_module_version": "1.5.0",
            "_model_name": "HBoxModel",
            "_view_count": null,
            "_view_module": "@jupyter-widgets/controls",
            "_view_module_version": "1.5.0",
            "_view_name": "HBoxView",
            "box_style": "",
            "children": [
              "IPY_MODEL_1cefb97372944973b5bd6bf9d48eb4a8",
              "IPY_MODEL_6982166830424dfb997d2b28e7f9d188",
              "IPY_MODEL_d84485bc023741d999697993805ae8ff"
            ],
            "layout": "IPY_MODEL_d8835fea5d4f435ab43987438767ff2d"
          }
        },
        "1cefb97372944973b5bd6bf9d48eb4a8": {
          "model_module": "@jupyter-widgets/controls",
          "model_name": "HTMLModel",
          "model_module_version": "1.5.0",
          "state": {
            "_dom_classes": [],
            "_model_module": "@jupyter-widgets/controls",
            "_model_module_version": "1.5.0",
            "_model_name": "HTMLModel",
            "_view_count": null,
            "_view_module": "@jupyter-widgets/controls",
            "_view_module_version": "1.5.0",
            "_view_name": "HTMLView",
            "description": "",
            "description_tooltip": null,
            "layout": "IPY_MODEL_088cd66d89a6494ba10e68ad056aca51",
            "placeholder": "​",
            "style": "IPY_MODEL_99d299bdb60445fda96f824f2316f9f9",
            "value": "Downloading (…)lve/main/config.json: 100%"
          }
        },
        "6982166830424dfb997d2b28e7f9d188": {
          "model_module": "@jupyter-widgets/controls",
          "model_name": "FloatProgressModel",
          "model_module_version": "1.5.0",
          "state": {
            "_dom_classes": [],
            "_model_module": "@jupyter-widgets/controls",
            "_model_module_version": "1.5.0",
            "_model_name": "FloatProgressModel",
            "_view_count": null,
            "_view_module": "@jupyter-widgets/controls",
            "_view_module_version": "1.5.0",
            "_view_name": "ProgressView",
            "bar_style": "success",
            "description": "",
            "description_tooltip": null,
            "layout": "IPY_MODEL_347a6b72d8024f13972c2a36f8e61b8b",
            "max": 625,
            "min": 0,
            "orientation": "horizontal",
            "style": "IPY_MODEL_b811a2838eb74f1e9a2ea1d58c82abec",
            "value": 625
          }
        },
        "d84485bc023741d999697993805ae8ff": {
          "model_module": "@jupyter-widgets/controls",
          "model_name": "HTMLModel",
          "model_module_version": "1.5.0",
          "state": {
            "_dom_classes": [],
            "_model_module": "@jupyter-widgets/controls",
            "_model_module_version": "1.5.0",
            "_model_name": "HTMLModel",
            "_view_count": null,
            "_view_module": "@jupyter-widgets/controls",
            "_view_module_version": "1.5.0",
            "_view_name": "HTMLView",
            "description": "",
            "description_tooltip": null,
            "layout": "IPY_MODEL_08d2cf4d77e04a81a082c5dadf7794e9",
            "placeholder": "​",
            "style": "IPY_MODEL_20230abda681400cbf11a963d70246a8",
            "value": " 625/625 [00:00&lt;00:00, 6.49kB/s]"
          }
        },
        "d8835fea5d4f435ab43987438767ff2d": {
          "model_module": "@jupyter-widgets/base",
          "model_name": "LayoutModel",
          "model_module_version": "1.2.0",
          "state": {
            "_model_module": "@jupyter-widgets/base",
            "_model_module_version": "1.2.0",
            "_model_name": "LayoutModel",
            "_view_count": null,
            "_view_module": "@jupyter-widgets/base",
            "_view_module_version": "1.2.0",
            "_view_name": "LayoutView",
            "align_content": null,
            "align_items": null,
            "align_self": null,
            "border": null,
            "bottom": null,
            "display": null,
            "flex": null,
            "flex_flow": null,
            "grid_area": null,
            "grid_auto_columns": null,
            "grid_auto_flow": null,
            "grid_auto_rows": null,
            "grid_column": null,
            "grid_gap": null,
            "grid_row": null,
            "grid_template_areas": null,
            "grid_template_columns": null,
            "grid_template_rows": null,
            "height": null,
            "justify_content": null,
            "justify_items": null,
            "left": null,
            "margin": null,
            "max_height": null,
            "max_width": null,
            "min_height": null,
            "min_width": null,
            "object_fit": null,
            "object_position": null,
            "order": null,
            "overflow": null,
            "overflow_x": null,
            "overflow_y": null,
            "padding": null,
            "right": null,
            "top": null,
            "visibility": null,
            "width": null
          }
        },
        "088cd66d89a6494ba10e68ad056aca51": {
          "model_module": "@jupyter-widgets/base",
          "model_name": "LayoutModel",
          "model_module_version": "1.2.0",
          "state": {
            "_model_module": "@jupyter-widgets/base",
            "_model_module_version": "1.2.0",
            "_model_name": "LayoutModel",
            "_view_count": null,
            "_view_module": "@jupyter-widgets/base",
            "_view_module_version": "1.2.0",
            "_view_name": "LayoutView",
            "align_content": null,
            "align_items": null,
            "align_self": null,
            "border": null,
            "bottom": null,
            "display": null,
            "flex": null,
            "flex_flow": null,
            "grid_area": null,
            "grid_auto_columns": null,
            "grid_auto_flow": null,
            "grid_auto_rows": null,
            "grid_column": null,
            "grid_gap": null,
            "grid_row": null,
            "grid_template_areas": null,
            "grid_template_columns": null,
            "grid_template_rows": null,
            "height": null,
            "justify_content": null,
            "justify_items": null,
            "left": null,
            "margin": null,
            "max_height": null,
            "max_width": null,
            "min_height": null,
            "min_width": null,
            "object_fit": null,
            "object_position": null,
            "order": null,
            "overflow": null,
            "overflow_x": null,
            "overflow_y": null,
            "padding": null,
            "right": null,
            "top": null,
            "visibility": null,
            "width": null
          }
        },
        "99d299bdb60445fda96f824f2316f9f9": {
          "model_module": "@jupyter-widgets/controls",
          "model_name": "DescriptionStyleModel",
          "model_module_version": "1.5.0",
          "state": {
            "_model_module": "@jupyter-widgets/controls",
            "_model_module_version": "1.5.0",
            "_model_name": "DescriptionStyleModel",
            "_view_count": null,
            "_view_module": "@jupyter-widgets/base",
            "_view_module_version": "1.2.0",
            "_view_name": "StyleView",
            "description_width": ""
          }
        },
        "347a6b72d8024f13972c2a36f8e61b8b": {
          "model_module": "@jupyter-widgets/base",
          "model_name": "LayoutModel",
          "model_module_version": "1.2.0",
          "state": {
            "_model_module": "@jupyter-widgets/base",
            "_model_module_version": "1.2.0",
            "_model_name": "LayoutModel",
            "_view_count": null,
            "_view_module": "@jupyter-widgets/base",
            "_view_module_version": "1.2.0",
            "_view_name": "LayoutView",
            "align_content": null,
            "align_items": null,
            "align_self": null,
            "border": null,
            "bottom": null,
            "display": null,
            "flex": null,
            "flex_flow": null,
            "grid_area": null,
            "grid_auto_columns": null,
            "grid_auto_flow": null,
            "grid_auto_rows": null,
            "grid_column": null,
            "grid_gap": null,
            "grid_row": null,
            "grid_template_areas": null,
            "grid_template_columns": null,
            "grid_template_rows": null,
            "height": null,
            "justify_content": null,
            "justify_items": null,
            "left": null,
            "margin": null,
            "max_height": null,
            "max_width": null,
            "min_height": null,
            "min_width": null,
            "object_fit": null,
            "object_position": null,
            "order": null,
            "overflow": null,
            "overflow_x": null,
            "overflow_y": null,
            "padding": null,
            "right": null,
            "top": null,
            "visibility": null,
            "width": null
          }
        },
        "b811a2838eb74f1e9a2ea1d58c82abec": {
          "model_module": "@jupyter-widgets/controls",
          "model_name": "ProgressStyleModel",
          "model_module_version": "1.5.0",
          "state": {
            "_model_module": "@jupyter-widgets/controls",
            "_model_module_version": "1.5.0",
            "_model_name": "ProgressStyleModel",
            "_view_count": null,
            "_view_module": "@jupyter-widgets/base",
            "_view_module_version": "1.2.0",
            "_view_name": "StyleView",
            "bar_color": null,
            "description_width": ""
          }
        },
        "08d2cf4d77e04a81a082c5dadf7794e9": {
          "model_module": "@jupyter-widgets/base",
          "model_name": "LayoutModel",
          "model_module_version": "1.2.0",
          "state": {
            "_model_module": "@jupyter-widgets/base",
            "_model_module_version": "1.2.0",
            "_model_name": "LayoutModel",
            "_view_count": null,
            "_view_module": "@jupyter-widgets/base",
            "_view_module_version": "1.2.0",
            "_view_name": "LayoutView",
            "align_content": null,
            "align_items": null,
            "align_self": null,
            "border": null,
            "bottom": null,
            "display": null,
            "flex": null,
            "flex_flow": null,
            "grid_area": null,
            "grid_auto_columns": null,
            "grid_auto_flow": null,
            "grid_auto_rows": null,
            "grid_column": null,
            "grid_gap": null,
            "grid_row": null,
            "grid_template_areas": null,
            "grid_template_columns": null,
            "grid_template_rows": null,
            "height": null,
            "justify_content": null,
            "justify_items": null,
            "left": null,
            "margin": null,
            "max_height": null,
            "max_width": null,
            "min_height": null,
            "min_width": null,
            "object_fit": null,
            "object_position": null,
            "order": null,
            "overflow": null,
            "overflow_x": null,
            "overflow_y": null,
            "padding": null,
            "right": null,
            "top": null,
            "visibility": null,
            "width": null
          }
        },
        "20230abda681400cbf11a963d70246a8": {
          "model_module": "@jupyter-widgets/controls",
          "model_name": "DescriptionStyleModel",
          "model_module_version": "1.5.0",
          "state": {
            "_model_module": "@jupyter-widgets/controls",
            "_model_module_version": "1.5.0",
            "_model_name": "DescriptionStyleModel",
            "_view_count": null,
            "_view_module": "@jupyter-widgets/base",
            "_view_module_version": "1.2.0",
            "_view_name": "StyleView",
            "description_width": ""
          }
        },
        "cf3f24b094384b6b889622b089dc2dfa": {
          "model_module": "@jupyter-widgets/controls",
          "model_name": "HBoxModel",
          "model_module_version": "1.5.0",
          "state": {
            "_dom_classes": [],
            "_model_module": "@jupyter-widgets/controls",
            "_model_module_version": "1.5.0",
            "_model_name": "HBoxModel",
            "_view_count": null,
            "_view_module": "@jupyter-widgets/controls",
            "_view_module_version": "1.5.0",
            "_view_name": "HBoxView",
            "box_style": "",
            "children": [
              "IPY_MODEL_b80d241201e44ad8a3317b6bd2b435dc",
              "IPY_MODEL_8bc7d520b10e43b3a187913501e08382",
              "IPY_MODEL_88b83872a81b40ce9694b591e7fc3cec"
            ],
            "layout": "IPY_MODEL_5ac1381376c1426fa1ae5d1aedf6a2b2"
          }
        },
        "b80d241201e44ad8a3317b6bd2b435dc": {
          "model_module": "@jupyter-widgets/controls",
          "model_name": "HTMLModel",
          "model_module_version": "1.5.0",
          "state": {
            "_dom_classes": [],
            "_model_module": "@jupyter-widgets/controls",
            "_model_module_version": "1.5.0",
            "_model_name": "HTMLModel",
            "_view_count": null,
            "_view_module": "@jupyter-widgets/controls",
            "_view_module_version": "1.5.0",
            "_view_name": "HTMLView",
            "description": "",
            "description_tooltip": null,
            "layout": "IPY_MODEL_3acdca9764714789b0deee59ba7ebc71",
            "placeholder": "​",
            "style": "IPY_MODEL_f0d4b3b2029f4b0e8363ff79df2ee5c1",
            "value": "Downloading (…)solve/main/vocab.txt: 100%"
          }
        },
        "8bc7d520b10e43b3a187913501e08382": {
          "model_module": "@jupyter-widgets/controls",
          "model_name": "FloatProgressModel",
          "model_module_version": "1.5.0",
          "state": {
            "_dom_classes": [],
            "_model_module": "@jupyter-widgets/controls",
            "_model_module_version": "1.5.0",
            "_model_name": "FloatProgressModel",
            "_view_count": null,
            "_view_module": "@jupyter-widgets/controls",
            "_view_module_version": "1.5.0",
            "_view_name": "ProgressView",
            "bar_style": "success",
            "description": "",
            "description_tooltip": null,
            "layout": "IPY_MODEL_ccc4897e41864148987f58717792a463",
            "max": 995526,
            "min": 0,
            "orientation": "horizontal",
            "style": "IPY_MODEL_68a7105005744b30826eb7f298f6bf5d",
            "value": 995526
          }
        },
        "88b83872a81b40ce9694b591e7fc3cec": {
          "model_module": "@jupyter-widgets/controls",
          "model_name": "HTMLModel",
          "model_module_version": "1.5.0",
          "state": {
            "_dom_classes": [],
            "_model_module": "@jupyter-widgets/controls",
            "_model_module_version": "1.5.0",
            "_model_name": "HTMLModel",
            "_view_count": null,
            "_view_module": "@jupyter-widgets/controls",
            "_view_module_version": "1.5.0",
            "_view_name": "HTMLView",
            "description": "",
            "description_tooltip": null,
            "layout": "IPY_MODEL_b1ef0741761f4a8fa17e49d88abf2f44",
            "placeholder": "​",
            "style": "IPY_MODEL_4fdc841d64ac467094ad7d6971e1b9cc",
            "value": " 996k/996k [00:00&lt;00:00, 4.90MB/s]"
          }
        },
        "5ac1381376c1426fa1ae5d1aedf6a2b2": {
          "model_module": "@jupyter-widgets/base",
          "model_name": "LayoutModel",
          "model_module_version": "1.2.0",
          "state": {
            "_model_module": "@jupyter-widgets/base",
            "_model_module_version": "1.2.0",
            "_model_name": "LayoutModel",
            "_view_count": null,
            "_view_module": "@jupyter-widgets/base",
            "_view_module_version": "1.2.0",
            "_view_name": "LayoutView",
            "align_content": null,
            "align_items": null,
            "align_self": null,
            "border": null,
            "bottom": null,
            "display": null,
            "flex": null,
            "flex_flow": null,
            "grid_area": null,
            "grid_auto_columns": null,
            "grid_auto_flow": null,
            "grid_auto_rows": null,
            "grid_column": null,
            "grid_gap": null,
            "grid_row": null,
            "grid_template_areas": null,
            "grid_template_columns": null,
            "grid_template_rows": null,
            "height": null,
            "justify_content": null,
            "justify_items": null,
            "left": null,
            "margin": null,
            "max_height": null,
            "max_width": null,
            "min_height": null,
            "min_width": null,
            "object_fit": null,
            "object_position": null,
            "order": null,
            "overflow": null,
            "overflow_x": null,
            "overflow_y": null,
            "padding": null,
            "right": null,
            "top": null,
            "visibility": null,
            "width": null
          }
        },
        "3acdca9764714789b0deee59ba7ebc71": {
          "model_module": "@jupyter-widgets/base",
          "model_name": "LayoutModel",
          "model_module_version": "1.2.0",
          "state": {
            "_model_module": "@jupyter-widgets/base",
            "_model_module_version": "1.2.0",
            "_model_name": "LayoutModel",
            "_view_count": null,
            "_view_module": "@jupyter-widgets/base",
            "_view_module_version": "1.2.0",
            "_view_name": "LayoutView",
            "align_content": null,
            "align_items": null,
            "align_self": null,
            "border": null,
            "bottom": null,
            "display": null,
            "flex": null,
            "flex_flow": null,
            "grid_area": null,
            "grid_auto_columns": null,
            "grid_auto_flow": null,
            "grid_auto_rows": null,
            "grid_column": null,
            "grid_gap": null,
            "grid_row": null,
            "grid_template_areas": null,
            "grid_template_columns": null,
            "grid_template_rows": null,
            "height": null,
            "justify_content": null,
            "justify_items": null,
            "left": null,
            "margin": null,
            "max_height": null,
            "max_width": null,
            "min_height": null,
            "min_width": null,
            "object_fit": null,
            "object_position": null,
            "order": null,
            "overflow": null,
            "overflow_x": null,
            "overflow_y": null,
            "padding": null,
            "right": null,
            "top": null,
            "visibility": null,
            "width": null
          }
        },
        "f0d4b3b2029f4b0e8363ff79df2ee5c1": {
          "model_module": "@jupyter-widgets/controls",
          "model_name": "DescriptionStyleModel",
          "model_module_version": "1.5.0",
          "state": {
            "_model_module": "@jupyter-widgets/controls",
            "_model_module_version": "1.5.0",
            "_model_name": "DescriptionStyleModel",
            "_view_count": null,
            "_view_module": "@jupyter-widgets/base",
            "_view_module_version": "1.2.0",
            "_view_name": "StyleView",
            "description_width": ""
          }
        },
        "ccc4897e41864148987f58717792a463": {
          "model_module": "@jupyter-widgets/base",
          "model_name": "LayoutModel",
          "model_module_version": "1.2.0",
          "state": {
            "_model_module": "@jupyter-widgets/base",
            "_model_module_version": "1.2.0",
            "_model_name": "LayoutModel",
            "_view_count": null,
            "_view_module": "@jupyter-widgets/base",
            "_view_module_version": "1.2.0",
            "_view_name": "LayoutView",
            "align_content": null,
            "align_items": null,
            "align_self": null,
            "border": null,
            "bottom": null,
            "display": null,
            "flex": null,
            "flex_flow": null,
            "grid_area": null,
            "grid_auto_columns": null,
            "grid_auto_flow": null,
            "grid_auto_rows": null,
            "grid_column": null,
            "grid_gap": null,
            "grid_row": null,
            "grid_template_areas": null,
            "grid_template_columns": null,
            "grid_template_rows": null,
            "height": null,
            "justify_content": null,
            "justify_items": null,
            "left": null,
            "margin": null,
            "max_height": null,
            "max_width": null,
            "min_height": null,
            "min_width": null,
            "object_fit": null,
            "object_position": null,
            "order": null,
            "overflow": null,
            "overflow_x": null,
            "overflow_y": null,
            "padding": null,
            "right": null,
            "top": null,
            "visibility": null,
            "width": null
          }
        },
        "68a7105005744b30826eb7f298f6bf5d": {
          "model_module": "@jupyter-widgets/controls",
          "model_name": "ProgressStyleModel",
          "model_module_version": "1.5.0",
          "state": {
            "_model_module": "@jupyter-widgets/controls",
            "_model_module_version": "1.5.0",
            "_model_name": "ProgressStyleModel",
            "_view_count": null,
            "_view_module": "@jupyter-widgets/base",
            "_view_module_version": "1.2.0",
            "_view_name": "StyleView",
            "bar_color": null,
            "description_width": ""
          }
        },
        "b1ef0741761f4a8fa17e49d88abf2f44": {
          "model_module": "@jupyter-widgets/base",
          "model_name": "LayoutModel",
          "model_module_version": "1.2.0",
          "state": {
            "_model_module": "@jupyter-widgets/base",
            "_model_module_version": "1.2.0",
            "_model_name": "LayoutModel",
            "_view_count": null,
            "_view_module": "@jupyter-widgets/base",
            "_view_module_version": "1.2.0",
            "_view_name": "LayoutView",
            "align_content": null,
            "align_items": null,
            "align_self": null,
            "border": null,
            "bottom": null,
            "display": null,
            "flex": null,
            "flex_flow": null,
            "grid_area": null,
            "grid_auto_columns": null,
            "grid_auto_flow": null,
            "grid_auto_rows": null,
            "grid_column": null,
            "grid_gap": null,
            "grid_row": null,
            "grid_template_areas": null,
            "grid_template_columns": null,
            "grid_template_rows": null,
            "height": null,
            "justify_content": null,
            "justify_items": null,
            "left": null,
            "margin": null,
            "max_height": null,
            "max_width": null,
            "min_height": null,
            "min_width": null,
            "object_fit": null,
            "object_position": null,
            "order": null,
            "overflow": null,
            "overflow_x": null,
            "overflow_y": null,
            "padding": null,
            "right": null,
            "top": null,
            "visibility": null,
            "width": null
          }
        },
        "4fdc841d64ac467094ad7d6971e1b9cc": {
          "model_module": "@jupyter-widgets/controls",
          "model_name": "DescriptionStyleModel",
          "model_module_version": "1.5.0",
          "state": {
            "_model_module": "@jupyter-widgets/controls",
            "_model_module_version": "1.5.0",
            "_model_name": "DescriptionStyleModel",
            "_view_count": null,
            "_view_module": "@jupyter-widgets/base",
            "_view_module_version": "1.2.0",
            "_view_name": "StyleView",
            "description_width": ""
          }
        },
        "e81f9f8199db49818ba8b35863a6791b": {
          "model_module": "@jupyter-widgets/controls",
          "model_name": "HBoxModel",
          "model_module_version": "1.5.0",
          "state": {
            "_dom_classes": [],
            "_model_module": "@jupyter-widgets/controls",
            "_model_module_version": "1.5.0",
            "_model_name": "HBoxModel",
            "_view_count": null,
            "_view_module": "@jupyter-widgets/controls",
            "_view_module_version": "1.5.0",
            "_view_name": "HBoxView",
            "box_style": "",
            "children": [
              "IPY_MODEL_8b865f91b4c24068bbe8eabe9b190761",
              "IPY_MODEL_f7dfc75c1c9d47d6a6e7135332ce17d4",
              "IPY_MODEL_9c57e471b83746a6b1cfb28f73ae52fb"
            ],
            "layout": "IPY_MODEL_3d96984b4f3e4aa5bfde67addbdd1428"
          }
        },
        "8b865f91b4c24068bbe8eabe9b190761": {
          "model_module": "@jupyter-widgets/controls",
          "model_name": "HTMLModel",
          "model_module_version": "1.5.0",
          "state": {
            "_dom_classes": [],
            "_model_module": "@jupyter-widgets/controls",
            "_model_module_version": "1.5.0",
            "_model_name": "HTMLModel",
            "_view_count": null,
            "_view_module": "@jupyter-widgets/controls",
            "_view_module_version": "1.5.0",
            "_view_name": "HTMLView",
            "description": "",
            "description_tooltip": null,
            "layout": "IPY_MODEL_42f6ad108ff540c587c322055d1c7cb0",
            "placeholder": "​",
            "style": "IPY_MODEL_d118b5f0a5f04c459f081f7bb9871906",
            "value": "Downloading model.safetensors: 100%"
          }
        },
        "f7dfc75c1c9d47d6a6e7135332ce17d4": {
          "model_module": "@jupyter-widgets/controls",
          "model_name": "FloatProgressModel",
          "model_module_version": "1.5.0",
          "state": {
            "_dom_classes": [],
            "_model_module": "@jupyter-widgets/controls",
            "_model_module_version": "1.5.0",
            "_model_name": "FloatProgressModel",
            "_view_count": null,
            "_view_module": "@jupyter-widgets/controls",
            "_view_module_version": "1.5.0",
            "_view_name": "ProgressView",
            "bar_style": "success",
            "description": "",
            "description_tooltip": null,
            "layout": "IPY_MODEL_5c6949017d7142588de32cca21e52d53",
            "max": 714290682,
            "min": 0,
            "orientation": "horizontal",
            "style": "IPY_MODEL_e0afa7ba03044eddb4d130f91d081650",
            "value": 714290682
          }
        },
        "9c57e471b83746a6b1cfb28f73ae52fb": {
          "model_module": "@jupyter-widgets/controls",
          "model_name": "HTMLModel",
          "model_module_version": "1.5.0",
          "state": {
            "_dom_classes": [],
            "_model_module": "@jupyter-widgets/controls",
            "_model_module_version": "1.5.0",
            "_model_name": "HTMLModel",
            "_view_count": null,
            "_view_module": "@jupyter-widgets/controls",
            "_view_module_version": "1.5.0",
            "_view_name": "HTMLView",
            "description": "",
            "description_tooltip": null,
            "layout": "IPY_MODEL_0162f294cf3b48c19c9cdba92825d8e8",
            "placeholder": "​",
            "style": "IPY_MODEL_c621e81f162346af826bc4cb3a95bb1e",
            "value": " 714M/714M [00:09&lt;00:00, 97.2MB/s]"
          }
        },
        "3d96984b4f3e4aa5bfde67addbdd1428": {
          "model_module": "@jupyter-widgets/base",
          "model_name": "LayoutModel",
          "model_module_version": "1.2.0",
          "state": {
            "_model_module": "@jupyter-widgets/base",
            "_model_module_version": "1.2.0",
            "_model_name": "LayoutModel",
            "_view_count": null,
            "_view_module": "@jupyter-widgets/base",
            "_view_module_version": "1.2.0",
            "_view_name": "LayoutView",
            "align_content": null,
            "align_items": null,
            "align_self": null,
            "border": null,
            "bottom": null,
            "display": null,
            "flex": null,
            "flex_flow": null,
            "grid_area": null,
            "grid_auto_columns": null,
            "grid_auto_flow": null,
            "grid_auto_rows": null,
            "grid_column": null,
            "grid_gap": null,
            "grid_row": null,
            "grid_template_areas": null,
            "grid_template_columns": null,
            "grid_template_rows": null,
            "height": null,
            "justify_content": null,
            "justify_items": null,
            "left": null,
            "margin": null,
            "max_height": null,
            "max_width": null,
            "min_height": null,
            "min_width": null,
            "object_fit": null,
            "object_position": null,
            "order": null,
            "overflow": null,
            "overflow_x": null,
            "overflow_y": null,
            "padding": null,
            "right": null,
            "top": null,
            "visibility": null,
            "width": null
          }
        },
        "42f6ad108ff540c587c322055d1c7cb0": {
          "model_module": "@jupyter-widgets/base",
          "model_name": "LayoutModel",
          "model_module_version": "1.2.0",
          "state": {
            "_model_module": "@jupyter-widgets/base",
            "_model_module_version": "1.2.0",
            "_model_name": "LayoutModel",
            "_view_count": null,
            "_view_module": "@jupyter-widgets/base",
            "_view_module_version": "1.2.0",
            "_view_name": "LayoutView",
            "align_content": null,
            "align_items": null,
            "align_self": null,
            "border": null,
            "bottom": null,
            "display": null,
            "flex": null,
            "flex_flow": null,
            "grid_area": null,
            "grid_auto_columns": null,
            "grid_auto_flow": null,
            "grid_auto_rows": null,
            "grid_column": null,
            "grid_gap": null,
            "grid_row": null,
            "grid_template_areas": null,
            "grid_template_columns": null,
            "grid_template_rows": null,
            "height": null,
            "justify_content": null,
            "justify_items": null,
            "left": null,
            "margin": null,
            "max_height": null,
            "max_width": null,
            "min_height": null,
            "min_width": null,
            "object_fit": null,
            "object_position": null,
            "order": null,
            "overflow": null,
            "overflow_x": null,
            "overflow_y": null,
            "padding": null,
            "right": null,
            "top": null,
            "visibility": null,
            "width": null
          }
        },
        "d118b5f0a5f04c459f081f7bb9871906": {
          "model_module": "@jupyter-widgets/controls",
          "model_name": "DescriptionStyleModel",
          "model_module_version": "1.5.0",
          "state": {
            "_model_module": "@jupyter-widgets/controls",
            "_model_module_version": "1.5.0",
            "_model_name": "DescriptionStyleModel",
            "_view_count": null,
            "_view_module": "@jupyter-widgets/base",
            "_view_module_version": "1.2.0",
            "_view_name": "StyleView",
            "description_width": ""
          }
        },
        "5c6949017d7142588de32cca21e52d53": {
          "model_module": "@jupyter-widgets/base",
          "model_name": "LayoutModel",
          "model_module_version": "1.2.0",
          "state": {
            "_model_module": "@jupyter-widgets/base",
            "_model_module_version": "1.2.0",
            "_model_name": "LayoutModel",
            "_view_count": null,
            "_view_module": "@jupyter-widgets/base",
            "_view_module_version": "1.2.0",
            "_view_name": "LayoutView",
            "align_content": null,
            "align_items": null,
            "align_self": null,
            "border": null,
            "bottom": null,
            "display": null,
            "flex": null,
            "flex_flow": null,
            "grid_area": null,
            "grid_auto_columns": null,
            "grid_auto_flow": null,
            "grid_auto_rows": null,
            "grid_column": null,
            "grid_gap": null,
            "grid_row": null,
            "grid_template_areas": null,
            "grid_template_columns": null,
            "grid_template_rows": null,
            "height": null,
            "justify_content": null,
            "justify_items": null,
            "left": null,
            "margin": null,
            "max_height": null,
            "max_width": null,
            "min_height": null,
            "min_width": null,
            "object_fit": null,
            "object_position": null,
            "order": null,
            "overflow": null,
            "overflow_x": null,
            "overflow_y": null,
            "padding": null,
            "right": null,
            "top": null,
            "visibility": null,
            "width": null
          }
        },
        "e0afa7ba03044eddb4d130f91d081650": {
          "model_module": "@jupyter-widgets/controls",
          "model_name": "ProgressStyleModel",
          "model_module_version": "1.5.0",
          "state": {
            "_model_module": "@jupyter-widgets/controls",
            "_model_module_version": "1.5.0",
            "_model_name": "ProgressStyleModel",
            "_view_count": null,
            "_view_module": "@jupyter-widgets/base",
            "_view_module_version": "1.2.0",
            "_view_name": "StyleView",
            "bar_color": null,
            "description_width": ""
          }
        },
        "0162f294cf3b48c19c9cdba92825d8e8": {
          "model_module": "@jupyter-widgets/base",
          "model_name": "LayoutModel",
          "model_module_version": "1.2.0",
          "state": {
            "_model_module": "@jupyter-widgets/base",
            "_model_module_version": "1.2.0",
            "_model_name": "LayoutModel",
            "_view_count": null,
            "_view_module": "@jupyter-widgets/base",
            "_view_module_version": "1.2.0",
            "_view_name": "LayoutView",
            "align_content": null,
            "align_items": null,
            "align_self": null,
            "border": null,
            "bottom": null,
            "display": null,
            "flex": null,
            "flex_flow": null,
            "grid_area": null,
            "grid_auto_columns": null,
            "grid_auto_flow": null,
            "grid_auto_rows": null,
            "grid_column": null,
            "grid_gap": null,
            "grid_row": null,
            "grid_template_areas": null,
            "grid_template_columns": null,
            "grid_template_rows": null,
            "height": null,
            "justify_content": null,
            "justify_items": null,
            "left": null,
            "margin": null,
            "max_height": null,
            "max_width": null,
            "min_height": null,
            "min_width": null,
            "object_fit": null,
            "object_position": null,
            "order": null,
            "overflow": null,
            "overflow_x": null,
            "overflow_y": null,
            "padding": null,
            "right": null,
            "top": null,
            "visibility": null,
            "width": null
          }
        },
        "c621e81f162346af826bc4cb3a95bb1e": {
          "model_module": "@jupyter-widgets/controls",
          "model_name": "DescriptionStyleModel",
          "model_module_version": "1.5.0",
          "state": {
            "_model_module": "@jupyter-widgets/controls",
            "_model_module_version": "1.5.0",
            "_model_name": "DescriptionStyleModel",
            "_view_count": null,
            "_view_module": "@jupyter-widgets/base",
            "_view_module_version": "1.2.0",
            "_view_name": "StyleView",
            "description_width": ""
          }
        }
      }
    }
  },
  "nbformat": 4,
  "nbformat_minor": 5
}